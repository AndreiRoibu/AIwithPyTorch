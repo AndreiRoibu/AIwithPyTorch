{
  "nbformat": 4,
  "nbformat_minor": 0,
  "metadata": {
    "colab": {
      "name": "Linear Classification with Logits.ipynb",
      "provenance": []
    },
    "kernelspec": {
      "name": "python3",
      "display_name": "Python 3"
    }
  },
  "cells": [
    {
      "cell_type": "code",
      "metadata": {
        "id": "ruyxiJl6z7Y8",
        "colab_type": "code",
        "colab": {}
      },
      "source": [
        "# Import the relevant modules\n",
        "import torch\n",
        "import torch.nn as nn\n",
        "import numpy as np\n",
        "import matplotlib.pyplot as plt\n",
        "from sklearn.datasets import load_breast_cancer\n",
        "from sklearn.model_selection import train_test_split\n",
        "from sklearn.preprocessing import StandardScaler"
      ],
      "execution_count": 0,
      "outputs": []
    },
    {
      "cell_type": "code",
      "metadata": {
        "id": "OWZnooyj0JkH",
        "colab_type": "code",
        "colab": {}
      },
      "source": [
        "# Load the data\n",
        "data = load_breast_cancer()"
      ],
      "execution_count": 0,
      "outputs": []
    },
    {
      "cell_type": "code",
      "metadata": {
        "id": "pXaR01g60NC6",
        "colab_type": "code",
        "outputId": "16b11cda-71ae-485f-8d2f-29c4c858d0bf",
        "colab": {
          "base_uri": "https://localhost:8080/",
          "height": 34
        }
      },
      "source": [
        "# Check data properties\n",
        "print(\"Type:\", type(data))"
      ],
      "execution_count": 3,
      "outputs": [
        {
          "output_type": "stream",
          "text": [
            "Type: <class 'sklearn.utils.Bunch'>\n"
          ],
          "name": "stdout"
        }
      ]
    },
    {
      "cell_type": "code",
      "metadata": {
        "id": "jxJEAoIf0Vy6",
        "colab_type": "code",
        "outputId": "4f3e0bd5-c458-4fee-88fd-a65d383bbe12",
        "colab": {
          "base_uri": "https://localhost:8080/",
          "height": 263
        }
      },
      "source": [
        "print(\"Keys:\", data.keys()) # Shows the keys of the data\n",
        "print(\"Shape:\", data.data.shape) # Check the shape of X\n",
        "print(\"Targets:\", data.target.shape) # Check the shape of Y\n",
        "print(\"Feature Names:\", data.feature_names) # Print the input feature names\n",
        "print(\"Targets Names:\", data.target_names)"
      ],
      "execution_count": 4,
      "outputs": [
        {
          "output_type": "stream",
          "text": [
            "Keys: dict_keys(['data', 'target', 'target_names', 'DESCR', 'feature_names', 'filename'])\n",
            "Shape: (569, 30)\n",
            "Targets: (569,)\n",
            "Feature Names: ['mean radius' 'mean texture' 'mean perimeter' 'mean area'\n",
            " 'mean smoothness' 'mean compactness' 'mean concavity'\n",
            " 'mean concave points' 'mean symmetry' 'mean fractal dimension'\n",
            " 'radius error' 'texture error' 'perimeter error' 'area error'\n",
            " 'smoothness error' 'compactness error' 'concavity error'\n",
            " 'concave points error' 'symmetry error' 'fractal dimension error'\n",
            " 'worst radius' 'worst texture' 'worst perimeter' 'worst area'\n",
            " 'worst smoothness' 'worst compactness' 'worst concavity'\n",
            " 'worst concave points' 'worst symmetry' 'worst fractal dimension']\n",
            "Targets Names: ['malignant' 'benign']\n"
          ],
          "name": "stdout"
        }
      ]
    },
    {
      "cell_type": "code",
      "metadata": {
        "id": "Jy_cojkJ0yzy",
        "colab_type": "code",
        "colab": {}
      },
      "source": [
        "# We split the data into train and test data\n",
        "X_train, X_test, y_train, y_test = train_test_split(data.data, data.target, test_size = 0.33)\n",
        "N, D = X_train.shape"
      ],
      "execution_count": 0,
      "outputs": []
    },
    {
      "cell_type": "code",
      "metadata": {
        "id": "DLMYA4D-1N7G",
        "colab_type": "code",
        "colab": {}
      },
      "source": [
        "# We scale the data\n",
        "# StandardScaler is used for normalizing the data\n",
        "# This is to prevent inputs from having very different ranges\n",
        "\n",
        "scaler = StandardScaler()\n",
        "X_train = scaler.fit_transform(X_train)\n",
        "X_test = scaler.fit_transform(X_test)"
      ],
      "execution_count": 0,
      "outputs": []
    },
    {
      "cell_type": "code",
      "metadata": {
        "id": "ODhgGhPg1ejz",
        "colab_type": "code",
        "colab": {}
      },
      "source": [
        "# We build the model\n",
        "# Sigmoid to make sure the output is 0/1 \n",
        "\n",
        "\"\"\"\n",
        "Motivation - numerical instability.\n",
        "Exponential numbers tend to be very large\n",
        "In the sigmoid, the operation is exponential, which is unstable\n",
        "The log term in Binary Cross-Entropy is unstable, because of similar reasons\n",
        "Because the BCE has a log, it cancels our the exponential.\n",
        "For both Sigmoid and BCE, these can be combined, and express the loss in terms of the activation (aka logit)\n",
        "The logit is the input into the logistic/sigmoid function.\n",
        "\"\"\"\n",
        "\n",
        "model = nn.Linear(D, 1)"
      ],
      "execution_count": 0,
      "outputs": []
    },
    {
      "cell_type": "code",
      "metadata": {
        "id": "c-kiRzEGQIUa",
        "colab_type": "code",
        "colab": {}
      },
      "source": [
        "# Loss and optimizer\n",
        "\n",
        "criterion = nn.BCEWithLogitsLoss()\n",
        "optimizer = torch.optim.Adam(model.parameters())"
      ],
      "execution_count": 0,
      "outputs": []
    },
    {
      "cell_type": "code",
      "metadata": {
        "id": "6Y20Eh4nQYnJ",
        "colab_type": "code",
        "colab": {}
      },
      "source": [
        "# We convert the data into Torch Tensors\n",
        "X_train = torch.from_numpy(X_train.astype(np.float32))\n",
        "X_test = torch.from_numpy(X_test.astype(np.float32))\n",
        "\n",
        "# Targets are reshaped to be 2D arrays of shape Nx1\n",
        "y_train = torch.from_numpy(y_train.astype(np.float32).reshape(-1, 1))\n",
        "y_test = torch.from_numpy(y_test.astype(np.float32).reshape(-1, 1))"
      ],
      "execution_count": 0,
      "outputs": []
    },
    {
      "cell_type": "code",
      "metadata": {
        "id": "yh66Ivg6Q1LB",
        "colab_type": "code",
        "outputId": "c2e0ca6d-6111-4156-e4bc-725860a92083",
        "colab": {
          "base_uri": "https://localhost:8080/",
          "height": 732
        }
      },
      "source": [
        "# Train the model\n",
        "number_epochs = 2000\n",
        "train_losses = np.zeros(number_epochs)\n",
        "test_losses = np.zeros(number_epochs)\n",
        "\n",
        "for iteration in range(number_epochs):\n",
        "\n",
        "    # We train the model\n",
        "    optimizer.zero_grad()\n",
        "    outputs = model(X_train)\n",
        "    loss = criterion(outputs, y_train)\n",
        "    loss.backward()\n",
        "    optimizer.step()\n",
        "\n",
        "    # We are also interested in the test/validation loss, to make sure we are not overtiffing\n",
        "    outputs_test = model(X_test)\n",
        "    loss_test = criterion(outputs_test, y_test)\n",
        "\n",
        "    # We save the losses\n",
        "    train_losses[iteration] = loss.item()\n",
        "    test_losses[iteration] = loss_test.item()\n",
        "\n",
        "    if (iteration+1) % 50 == 0:\n",
        "        print(\"Epoch: {}/{}, Train Loss: {}, Test Loss: {}\".format(iteration+1, number_epochs, loss.item(), loss_test.item()))"
      ],
      "execution_count": 11,
      "outputs": [
        {
          "output_type": "stream",
          "text": [
            "Epoch: 50/2000, Train Loss: 0.542561411857605, Test Loss: 0.5740674734115601\n",
            "Epoch: 100/2000, Train Loss: 0.3913623094558716, Test Loss: 0.4023183584213257\n",
            "Epoch: 150/2000, Train Loss: 0.31181907653808594, Test Loss: 0.3171365559101105\n",
            "Epoch: 200/2000, Train Loss: 0.2626412510871887, Test Loss: 0.2665656805038452\n",
            "Epoch: 250/2000, Train Loss: 0.22915086150169373, Test Loss: 0.23278281092643738\n",
            "Epoch: 300/2000, Train Loss: 0.2049051970243454, Test Loss: 0.20850174129009247\n",
            "Epoch: 350/2000, Train Loss: 0.18658024072647095, Test Loss: 0.19017094373703003\n",
            "Epoch: 400/2000, Train Loss: 0.17226728796958923, Test Loss: 0.17583324015140533\n",
            "Epoch: 450/2000, Train Loss: 0.16078901290893555, Test Loss: 0.1643122136592865\n",
            "Epoch: 500/2000, Train Loss: 0.1513819396495819, Test Loss: 0.15485462546348572\n",
            "Epoch: 550/2000, Train Loss: 0.1435309499502182, Test Loss: 0.14695453643798828\n",
            "Epoch: 600/2000, Train Loss: 0.13687683641910553, Test Loss: 0.14025893807411194\n",
            "Epoch: 650/2000, Train Loss: 0.13116206228733063, Test Loss: 0.13451382517814636\n",
            "Epoch: 700/2000, Train Loss: 0.12619753181934357, Test Loss: 0.1295316517353058\n",
            "Epoch: 750/2000, Train Loss: 0.12184140086174011, Test Loss: 0.1251710057258606\n",
            "Epoch: 800/2000, Train Loss: 0.11798538267612457, Test Loss: 0.12132316082715988\n",
            "Epoch: 850/2000, Train Loss: 0.11454543471336365, Test Loss: 0.11790312081575394\n",
            "Epoch: 900/2000, Train Loss: 0.11145522445440292, Test Loss: 0.11484361439943314\n",
            "Epoch: 950/2000, Train Loss: 0.10866186022758484, Test Loss: 0.1120905801653862\n",
            "Epoch: 1000/2000, Train Loss: 0.10612263530492783, Test Loss: 0.10960017144680023\n",
            "Epoch: 1050/2000, Train Loss: 0.1038026288151741, Test Loss: 0.10733643919229507\n",
            "Epoch: 1100/2000, Train Loss: 0.10167312622070312, Test Loss: 0.10526968538761139\n",
            "Epoch: 1150/2000, Train Loss: 0.09971018135547638, Test Loss: 0.10337503254413605\n",
            "Epoch: 1200/2000, Train Loss: 0.09789372235536575, Test Loss: 0.10163166373968124\n",
            "Epoch: 1250/2000, Train Loss: 0.09620685875415802, Test Loss: 0.10002198070287704\n",
            "Epoch: 1300/2000, Train Loss: 0.09463515877723694, Test Loss: 0.09853096306324005\n",
            "Epoch: 1350/2000, Train Loss: 0.09316626936197281, Test Loss: 0.09714575111865997\n",
            "Epoch: 1400/2000, Train Loss: 0.09178952872753143, Test Loss: 0.09585531055927277\n",
            "Epoch: 1450/2000, Train Loss: 0.09049580991268158, Test Loss: 0.0946500226855278\n",
            "Epoch: 1500/2000, Train Loss: 0.08927704393863678, Test Loss: 0.09352163225412369\n",
            "Epoch: 1550/2000, Train Loss: 0.08812632411718369, Test Loss: 0.09246286749839783\n",
            "Epoch: 1600/2000, Train Loss: 0.08703739196062088, Test Loss: 0.09146738052368164\n",
            "Epoch: 1650/2000, Train Loss: 0.08600490540266037, Test Loss: 0.09052955359220505\n",
            "Epoch: 1700/2000, Train Loss: 0.08502405881881714, Test Loss: 0.08964445441961288\n",
            "Epoch: 1750/2000, Train Loss: 0.08409052342176437, Test Loss: 0.08880768716335297\n",
            "Epoch: 1800/2000, Train Loss: 0.08320056647062302, Test Loss: 0.08801538497209549\n",
            "Epoch: 1850/2000, Train Loss: 0.08235076069831848, Test Loss: 0.0872640535235405\n",
            "Epoch: 1900/2000, Train Loss: 0.08153807371854782, Test Loss: 0.08655059337615967\n",
            "Epoch: 1950/2000, Train Loss: 0.080759696662426, Test Loss: 0.08587222546339035\n",
            "Epoch: 2000/2000, Train Loss: 0.08001323789358139, Test Loss: 0.0852264016866684\n"
          ],
          "name": "stdout"
        }
      ]
    },
    {
      "cell_type": "code",
      "metadata": {
        "id": "Q5j_t3GIY3cZ",
        "colab_type": "code",
        "outputId": "62474222-7a04-4efe-bf62-260de385c586",
        "colab": {
          "base_uri": "https://localhost:8080/",
          "height": 265
        }
      },
      "source": [
        "# Plot the train and test losses\n",
        "plt.plot(train_losses, label='train')\n",
        "plt.plot(test_losses, label='test')\n",
        "plt.legend()\n",
        "plt.show()"
      ],
      "execution_count": 12,
      "outputs": [
        {
          "output_type": "display_data",
          "data": {
            "image/png": "[encoded data removed]",
            "text/plain": [
              "<Figure size 432x288 with 1 Axes>"
            ]
          },
          "metadata": {
            "tags": [],
            "needs_background": "light"
          }
        }
      ]
    },
    {
      "cell_type": "code",
      "metadata": {
        "id": "DIe_WyT2aXZs",
        "colab_type": "code",
        "outputId": "5f7ad7ff-36ea-4d90-9a74-7c07c7ca4d57",
        "colab": {
          "base_uri": "https://localhost:8080/",
          "height": 34
        }
      },
      "source": [
        "# Get the accuracy\n",
        "# Sigmoid always outputs a number between 0 and 1 and this is a probability\n",
        "# For logits, the predictions are positive or negative (sides of hyperplane)\n",
        "with torch.no_grad():\n",
        "    p_train = model(X_train) # Calculate the prediction\n",
        "    p_train = (p_train.numpy()> 0) # convert tensors to np, and round them\n",
        "    train_accuracy = np.mean(y_train.numpy() == p_train) # point-wise comparison and take the mean\n",
        "\n",
        "    p_test = model(X_test)\n",
        "    p_test = (p_test.numpy() > 0)\n",
        "    test_accuracy = np.mean(y_test.numpy() == p_test)\n",
        "\n",
        "print('Train Accuracy: {}, Test Accuracy: {}'.format(train_accuracy, test_accuracy))"
      ],
      "execution_count": 13,
      "outputs": [
        {
          "output_type": "stream",
          "text": [
            "Train Accuracy: 0.9868766404199475, Test Accuracy: 0.9574468085106383\n"
          ],
          "name": "stdout"
        }
      ]
    }
  ]
}