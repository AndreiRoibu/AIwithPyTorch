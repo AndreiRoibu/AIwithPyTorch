{
  "nbformat": 4,
  "nbformat_minor": 0,
  "metadata": {
    "colab": {
      "name": "Linear_Classification_with_Logits.ipynb",
      "provenance": [],
      "collapsed_sections": []
    },
    "kernelspec": {
      "name": "python3",
      "display_name": "Python 3"
    }
  },
  "cells": [
    {
      "cell_type": "code",
      "metadata": {
        "id": "ruyxiJl6z7Y8"
      },
      "source": [
        "# Import the relevant modules\n",
        "import torch\n",
        "import torch.nn as nn\n",
        "import numpy as np\n",
        "import matplotlib.pyplot as plt\n",
        "import seaborn as sns\n",
        "sns.set()\n",
        "from sklearn.datasets import load_breast_cancer\n",
        "from sklearn.model_selection import train_test_split\n",
        "from sklearn.preprocessing import StandardScaler"
      ],
      "execution_count": 12,
      "outputs": []
    },
    {
      "cell_type": "code",
      "metadata": {
        "id": "OWZnooyj0JkH"
      },
      "source": [
        "# Load the data\n",
        "data = load_breast_cancer()"
      ],
      "execution_count": 2,
      "outputs": []
    },
    {
      "cell_type": "code",
      "metadata": {
        "id": "pXaR01g60NC6",
        "outputId": "d08a7807-8019-47a7-fccd-a959fb7800ef",
        "colab": {
          "base_uri": "https://localhost:8080/"
        }
      },
      "source": [
        "# Check data properties\n",
        "print(\"Type:\", type(data))"
      ],
      "execution_count": 3,
      "outputs": [
        {
          "output_type": "stream",
          "name": "stdout",
          "text": [
            "Type: <class 'sklearn.utils.Bunch'>\n"
          ]
        }
      ]
    },
    {
      "cell_type": "code",
      "metadata": {
        "id": "jxJEAoIf0Vy6",
        "outputId": "72eab714-67a7-431d-b45c-5759f7e81a62",
        "colab": {
          "base_uri": "https://localhost:8080/"
        }
      },
      "source": [
        "print(\"Keys:\", data.keys()) # Shows the keys of the data\n",
        "print(\"Shape:\", data.data.shape) # Check the shape of X\n",
        "print(\"Targets:\", data.target.shape) # Check the shape of Y\n",
        "print(\"Feature Names:\", data.feature_names) # Print the input feature names\n",
        "print(\"Targets Names:\", data.target_names)"
      ],
      "execution_count": 29,
      "outputs": [
        {
          "output_type": "stream",
          "name": "stdout",
          "text": [
            "Keys: dict_keys(['data', 'target', 'frame', 'target_names', 'DESCR', 'feature_names', 'filename', 'data_module'])\n",
            "Shape: (569, 30)\n",
            "Targets: (569,)\n",
            "Feature Names: ['mean radius' 'mean texture' 'mean perimeter' 'mean area'\n",
            " 'mean smoothness' 'mean compactness' 'mean concavity'\n",
            " 'mean concave points' 'mean symmetry' 'mean fractal dimension'\n",
            " 'radius error' 'texture error' 'perimeter error' 'area error'\n",
            " 'smoothness error' 'compactness error' 'concavity error'\n",
            " 'concave points error' 'symmetry error' 'fractal dimension error'\n",
            " 'worst radius' 'worst texture' 'worst perimeter' 'worst area'\n",
            " 'worst smoothness' 'worst compactness' 'worst concavity'\n",
            " 'worst concave points' 'worst symmetry' 'worst fractal dimension']\n",
            "Targets Names: ['malignant' 'benign']\n"
          ]
        }
      ]
    },
    {
      "cell_type": "code",
      "metadata": {
        "id": "Jy_cojkJ0yzy"
      },
      "source": [
        "# We split the data into train and test data\n",
        "X_train, X_test, y_train, y_test = train_test_split(data.data, data.target, test_size = 0.33)\n",
        "N, D = X_train.shape"
      ],
      "execution_count": 30,
      "outputs": []
    },
    {
      "cell_type": "code",
      "metadata": {
        "id": "DLMYA4D-1N7G"
      },
      "source": [
        "# We scale the data\n",
        "# StandardScaler is used for normalizing the data\n",
        "# This is to prevent inputs from having very different ranges\n",
        "\n",
        "scaler = StandardScaler()\n",
        "X_train = scaler.fit_transform(X_train)\n",
        "X_test = scaler.fit_transform(X_test)"
      ],
      "execution_count": 31,
      "outputs": []
    },
    {
      "cell_type": "code",
      "metadata": {
        "id": "ODhgGhPg1ejz"
      },
      "source": [
        "# We build the model\n",
        "# Sigmoid to make sure the output is 0/1 \n",
        "\n",
        "\"\"\"\n",
        "Motivation - numerical instability.\n",
        "Exponential numbers tend to be very large\n",
        "In the sigmoid, the operation is exponential, which is unstable\n",
        "The log term in Binary Cross-Entropy is unstable, because of similar reasons\n",
        "Because the BCE has a log, it cancels our the exponential.\n",
        "For both Sigmoid and BCE, these can be combined, and express the loss in terms of the activation (aka logit)\n",
        "The logit is the input into the logistic/sigmoid function.\n",
        "\"\"\"\n",
        "\n",
        "model = nn.Linear(D, 1)"
      ],
      "execution_count": 32,
      "outputs": []
    },
    {
      "cell_type": "code",
      "metadata": {
        "id": "c-kiRzEGQIUa"
      },
      "source": [
        "# Loss and optimizer\n",
        "\n",
        "criterion = nn.BCEWithLogitsLoss()\n",
        "optimizer = torch.optim.Adam(model.parameters())"
      ],
      "execution_count": 33,
      "outputs": []
    },
    {
      "cell_type": "code",
      "metadata": {
        "id": "6Y20Eh4nQYnJ"
      },
      "source": [
        "# We convert the data into Torch Tensors\n",
        "X_train = torch.from_numpy(X_train.astype(np.float32))\n",
        "X_test = torch.from_numpy(X_test.astype(np.float32))\n",
        "\n",
        "# Targets are reshaped to be 2D arrays of shape Nx1\n",
        "y_train = torch.from_numpy(y_train.astype(np.float32).reshape(-1, 1))\n",
        "y_test = torch.from_numpy(y_test.astype(np.float32).reshape(-1, 1))"
      ],
      "execution_count": 34,
      "outputs": []
    },
    {
      "cell_type": "code",
      "metadata": {
        "id": "yh66Ivg6Q1LB",
        "outputId": "28c52c5b-04a3-483e-ba37-93bc45f68ad5",
        "colab": {
          "base_uri": "https://localhost:8080/"
        }
      },
      "source": [
        "# Train the model\n",
        "number_epochs = 2000\n",
        "train_losses = np.zeros(number_epochs)\n",
        "test_losses = np.zeros(number_epochs)\n",
        "\n",
        "for iteration in range(number_epochs):\n",
        "\n",
        "    # We train the model\n",
        "    optimizer.zero_grad()\n",
        "    outputs = model(X_train)\n",
        "    loss = criterion(outputs, y_train)\n",
        "    loss.backward()\n",
        "    optimizer.step()\n",
        "\n",
        "    # We are also interested in the test/validation loss, to make sure we are not overtiffing\n",
        "    outputs_test = model(X_test)\n",
        "    loss_test = criterion(outputs_test, y_test)\n",
        "\n",
        "    # We save the losses\n",
        "    train_losses[iteration] = loss.item()\n",
        "    test_losses[iteration] = loss_test.item()\n",
        "\n",
        "    if (iteration+1) % 50 == 0:\n",
        "        print(\"Epoch: {}/{}, Train Loss: {:.5f}, Test Loss: {:.5f}\".format(iteration+1, number_epochs, loss.item(), loss_test.item()))"
      ],
      "execution_count": 35,
      "outputs": [
        {
          "output_type": "stream",
          "name": "stdout",
          "text": [
            "Epoch: 50/2000, Train Loss: 0.51567, Test Loss: 0.53245\n",
            "Epoch: 100/2000, Train Loss: 0.37399, Test Loss: 0.39915\n",
            "Epoch: 150/2000, Train Loss: 0.29723, Test Loss: 0.32608\n",
            "Epoch: 200/2000, Train Loss: 0.24937, Test Loss: 0.27995\n",
            "Epoch: 250/2000, Train Loss: 0.21679, Test Loss: 0.24800\n",
            "Epoch: 300/2000, Train Loss: 0.19326, Test Loss: 0.22449\n",
            "Epoch: 350/2000, Train Loss: 0.17549, Test Loss: 0.20640\n",
            "Epoch: 400/2000, Train Loss: 0.16160, Test Loss: 0.19201\n",
            "Epoch: 450/2000, Train Loss: 0.15043, Test Loss: 0.18025\n",
            "Epoch: 500/2000, Train Loss: 0.14123, Test Loss: 0.17042\n",
            "Epoch: 550/2000, Train Loss: 0.13351, Test Loss: 0.16207\n",
            "Epoch: 600/2000, Train Loss: 0.12693, Test Loss: 0.15487\n",
            "Epoch: 650/2000, Train Loss: 0.12125, Test Loss: 0.14859\n",
            "Epoch: 700/2000, Train Loss: 0.11628, Test Loss: 0.14306\n",
            "Epoch: 750/2000, Train Loss: 0.11190, Test Loss: 0.13814\n",
            "Epoch: 800/2000, Train Loss: 0.10800, Test Loss: 0.13374\n",
            "Epoch: 850/2000, Train Loss: 0.10450, Test Loss: 0.12977\n",
            "Epoch: 900/2000, Train Loss: 0.10135, Test Loss: 0.12617\n",
            "Epoch: 950/2000, Train Loss: 0.09849, Test Loss: 0.12289\n",
            "Epoch: 1000/2000, Train Loss: 0.09589, Test Loss: 0.11989\n",
            "Epoch: 1050/2000, Train Loss: 0.09351, Test Loss: 0.11713\n",
            "Epoch: 1100/2000, Train Loss: 0.09132, Test Loss: 0.11458\n",
            "Epoch: 1150/2000, Train Loss: 0.08929, Test Loss: 0.11222\n",
            "Epoch: 1200/2000, Train Loss: 0.08742, Test Loss: 0.11002\n",
            "Epoch: 1250/2000, Train Loss: 0.08569, Test Loss: 0.10797\n",
            "Epoch: 1300/2000, Train Loss: 0.08407, Test Loss: 0.10605\n",
            "Epoch: 1350/2000, Train Loss: 0.08256, Test Loss: 0.10425\n",
            "Epoch: 1400/2000, Train Loss: 0.08115, Test Loss: 0.10256\n",
            "Epoch: 1450/2000, Train Loss: 0.07983, Test Loss: 0.10097\n",
            "Epoch: 1500/2000, Train Loss: 0.07858, Test Loss: 0.09946\n",
            "Epoch: 1550/2000, Train Loss: 0.07741, Test Loss: 0.09803\n",
            "Epoch: 1600/2000, Train Loss: 0.07631, Test Loss: 0.09667\n",
            "Epoch: 1650/2000, Train Loss: 0.07527, Test Loss: 0.09538\n",
            "Epoch: 1700/2000, Train Loss: 0.07428, Test Loss: 0.09416\n",
            "Epoch: 1750/2000, Train Loss: 0.07335, Test Loss: 0.09298\n",
            "Epoch: 1800/2000, Train Loss: 0.07246, Test Loss: 0.09186\n",
            "Epoch: 1850/2000, Train Loss: 0.07161, Test Loss: 0.09079\n",
            "Epoch: 1900/2000, Train Loss: 0.07081, Test Loss: 0.08976\n",
            "Epoch: 1950/2000, Train Loss: 0.07005, Test Loss: 0.08877\n",
            "Epoch: 2000/2000, Train Loss: 0.06931, Test Loss: 0.08782\n"
          ]
        }
      ]
    },
    {
      "cell_type": "code",
      "metadata": {
        "id": "Q5j_t3GIY3cZ",
        "outputId": "9a58b806-136d-4710-8f69-58b041896601",
        "colab": {
          "base_uri": "https://localhost:8080/",
          "height": 268
        }
      },
      "source": [
        "# Plot the train and test losses\n",
        "plt.plot(train_losses, label='train')\n",
        "plt.plot(test_losses, label='test')\n",
        "plt.legend()\n",
        "plt.show()"
      ],
      "execution_count": 36,
      "outputs": [
        {
          "output_type": "display_data",
          "data": {
            "image/png": "[encoded data removed]",
            "text/plain": [
              "<Figure size 432x288 with 1 Axes>"
            ]
          },
          "metadata": {}
        }
      ]
    },
    {
      "cell_type": "code",
      "metadata": {
        "id": "DIe_WyT2aXZs",
        "outputId": "cd8ce25d-b52c-487a-bdaf-0126c5d88180",
        "colab": {
          "base_uri": "https://localhost:8080/"
        }
      },
      "source": [
        "# Get the accuracy\n",
        "# Sigmoid always outputs a number between 0 and 1 and this is a probability\n",
        "# For logits, the predictions are positive or negative (sides of hyperplane)\n",
        "with torch.no_grad():\n",
        "    p_train = model(X_train) # Calculate the prediction\n",
        "    p_train = (p_train.numpy()> 0) # convert tensors to np, and round them\n",
        "    train_accuracy = np.mean(y_train.numpy() == p_train) # point-wise comparison and take the mean\n",
        "\n",
        "    p_test = model(X_test)\n",
        "    p_test = (p_test.numpy() > 0)\n",
        "    test_accuracy = np.mean(y_test.numpy() == p_test)\n",
        "\n",
        "print('Train Accuracy: {}, Test Accuracy: {}'.format(train_accuracy, test_accuracy))"
      ],
      "execution_count": 37,
      "outputs": [
        {
          "output_type": "stream",
          "name": "stdout",
          "text": [
            "Train Accuracy: 0.9868766404199475, Test Accuracy: 0.9840425531914894\n"
          ]
        }
      ]
    },
    {
      "cell_type": "code",
      "source": [
        ""
      ],
      "metadata": {
        "id": "7q6P0edxXtq7"
      },
      "execution_count": null,
      "outputs": []
    }
  ]
}