{
  "nbformat": 4,
  "nbformat_minor": 0,
  "metadata": {
    "colab": {
      "name": "Linear Classification.ipynb",
      "provenance": []
    },
    "kernelspec": {
      "name": "python3",
      "display_name": "Python 3"
    }
  },
  "cells": [
    {
      "cell_type": "code",
      "metadata": {
        "id": "ruyxiJl6z7Y8",
        "colab_type": "code",
        "colab": {}
      },
      "source": [
        "# Import the relevant modules\n",
        "import torch\n",
        "import torch.nn as nn\n",
        "import numpy as np\n",
        "import matplotlib.pyplot as plt\n",
        "from sklearn.datasets import load_breast_cancer\n",
        "from sklearn.model_selection import train_test_split\n",
        "from sklearn.preprocessing import StandardScaler"
      ],
      "execution_count": 0,
      "outputs": []
    },
    {
      "cell_type": "code",
      "metadata": {
        "id": "OWZnooyj0JkH",
        "colab_type": "code",
        "colab": {}
      },
      "source": [
        "# Load the data\n",
        "data = load_breast_cancer()"
      ],
      "execution_count": 0,
      "outputs": []
    },
    {
      "cell_type": "code",
      "metadata": {
        "id": "pXaR01g60NC6",
        "colab_type": "code",
        "outputId": "d78eba47-1a6f-40f8-9926-4e80bfbb22d2",
        "colab": {
          "base_uri": "https://localhost:8080/",
          "height": 34
        }
      },
      "source": [
        "# Check data properties\n",
        "print(\"Type:\", type(data))"
      ],
      "execution_count": 3,
      "outputs": [
        {
          "output_type": "stream",
          "text": [
            "Type: <class 'sklearn.utils.Bunch'>\n"
          ],
          "name": "stdout"
        }
      ]
    },
    {
      "cell_type": "code",
      "metadata": {
        "id": "jxJEAoIf0Vy6",
        "colab_type": "code",
        "outputId": "c868d250-98a0-4e10-c192-5bfa573b7ddd",
        "colab": {
          "base_uri": "https://localhost:8080/",
          "height": 263
        }
      },
      "source": [
        "print(\"Keys:\", data.keys()) # Shows the keys of the data\n",
        "print(\"Shape:\", data.data.shape) # Check the shape of X\n",
        "print(\"Targets:\", data.target.shape) # Check the shape of Y\n",
        "print(\"Feature Names:\", data.feature_names) # Print the input feature names\n",
        "print(\"Targets Names:\", data.target_names)"
      ],
      "execution_count": 4,
      "outputs": [
        {
          "output_type": "stream",
          "text": [
            "Keys: dict_keys(['data', 'target', 'target_names', 'DESCR', 'feature_names', 'filename'])\n",
            "Shape: (569, 30)\n",
            "Targets: (569,)\n",
            "Feature Names: ['mean radius' 'mean texture' 'mean perimeter' 'mean area'\n",
            " 'mean smoothness' 'mean compactness' 'mean concavity'\n",
            " 'mean concave points' 'mean symmetry' 'mean fractal dimension'\n",
            " 'radius error' 'texture error' 'perimeter error' 'area error'\n",
            " 'smoothness error' 'compactness error' 'concavity error'\n",
            " 'concave points error' 'symmetry error' 'fractal dimension error'\n",
            " 'worst radius' 'worst texture' 'worst perimeter' 'worst area'\n",
            " 'worst smoothness' 'worst compactness' 'worst concavity'\n",
            " 'worst concave points' 'worst symmetry' 'worst fractal dimension']\n",
            "Targets Names: ['malignant' 'benign']\n"
          ],
          "name": "stdout"
        }
      ]
    },
    {
      "cell_type": "code",
      "metadata": {
        "id": "Jy_cojkJ0yzy",
        "colab_type": "code",
        "colab": {}
      },
      "source": [
        "# We split the data into train and test data\n",
        "X_train, X_test, y_train, y_test = train_test_split(data.data, data.target, test_size = 0.33)\n",
        "N, D = X_train.shape"
      ],
      "execution_count": 0,
      "outputs": []
    },
    {
      "cell_type": "code",
      "metadata": {
        "id": "DLMYA4D-1N7G",
        "colab_type": "code",
        "colab": {}
      },
      "source": [
        "# We scale the data\n",
        "# StandardScaler is used for normalizing the data\n",
        "# This is to prevent inputs from having very different ranges\n",
        "\n",
        "scaler = StandardScaler()\n",
        "X_train = scaler.fit_transform(X_train)\n",
        "X_test = scaler.fit_transform(X_test)"
      ],
      "execution_count": 0,
      "outputs": []
    },
    {
      "cell_type": "code",
      "metadata": {
        "id": "ODhgGhPg1ejz",
        "colab_type": "code",
        "colab": {}
      },
      "source": [
        "# We build the model\n",
        "# Sigmoid to make sure the output is 0/1 \n",
        "\n",
        "model = nn.Sequential(\n",
        "    nn.Linear(D, 1),\n",
        "    nn.Sigmoid()\n",
        ")"
      ],
      "execution_count": 0,
      "outputs": []
    },
    {
      "cell_type": "code",
      "metadata": {
        "id": "c-kiRzEGQIUa",
        "colab_type": "code",
        "colab": {}
      },
      "source": [
        "# Loss and optimizer\n",
        "\n",
        "criterion = nn.BCELoss()\n",
        "optimizer = torch.optim.Adam(model.parameters())"
      ],
      "execution_count": 0,
      "outputs": []
    },
    {
      "cell_type": "code",
      "metadata": {
        "id": "6Y20Eh4nQYnJ",
        "colab_type": "code",
        "colab": {}
      },
      "source": [
        "# We convert the data into Torch Tensors\n",
        "X_train = torch.from_numpy(X_train.astype(np.float32))\n",
        "X_test = torch.from_numpy(X_test.astype(np.float32))\n",
        "\n",
        "# Targets are reshaped to be 2D arrays of shape Nx1\n",
        "y_train = torch.from_numpy(y_train.astype(np.float32).reshape(-1, 1))\n",
        "y_test = torch.from_numpy(y_test.astype(np.float32).reshape(-1, 1))"
      ],
      "execution_count": 0,
      "outputs": []
    },
    {
      "cell_type": "code",
      "metadata": {
        "id": "yh66Ivg6Q1LB",
        "colab_type": "code",
        "colab": {
          "base_uri": "https://localhost:8080/",
          "height": 732
        },
        "outputId": "3e3e0252-675a-47d2-e25c-ee4f0c5054ca"
      },
      "source": [
        "# Train the model\n",
        "number_epochs = 2000\n",
        "train_losses = np.zeros(number_epochs)\n",
        "test_losses = np.zeros(number_epochs)\n",
        "\n",
        "for iteration in range(number_epochs):\n",
        "\n",
        "    # We train the model\n",
        "    optimizer.zero_grad()\n",
        "    outputs = model(X_train)\n",
        "    loss = criterion(outputs, y_train)\n",
        "    loss.backward()\n",
        "    optimizer.step()\n",
        "\n",
        "    # We are also interested in the test/validation loss, to make sure we are not overtiffing\n",
        "    outputs_test = model(X_test)\n",
        "    loss_test = criterion(outputs_test, y_test)\n",
        "\n",
        "    # We save the losses\n",
        "    train_losses[iteration] = loss.item()\n",
        "    test_losses[iteration] = loss_test.item()\n",
        "\n",
        "    if (iteration+1) % 50 == 0:\n",
        "        print(\"Epoch: {}/{}, Train Loss: {}, Test Loss: {}\".format(iteration+1, number_epochs, loss.item(), loss_test.item()))"
      ],
      "execution_count": 10,
      "outputs": [
        {
          "output_type": "stream",
          "text": [
            "Epoch: 50/2000, Train Loss: 0.5151282548904419, Test Loss: 0.5410593152046204\n",
            "Epoch: 100/2000, Train Loss: 0.37863510847091675, Test Loss: 0.4040481150150299\n",
            "Epoch: 150/2000, Train Loss: 0.30400705337524414, Test Loss: 0.3288499116897583\n",
            "Epoch: 200/2000, Train Loss: 0.2570175528526306, Test Loss: 0.28020861744880676\n",
            "Epoch: 250/2000, Train Loss: 0.224765345454216, Test Loss: 0.24568858742713928\n",
            "Epoch: 300/2000, Train Loss: 0.20135153830051422, Test Loss: 0.2198081761598587\n",
            "Epoch: 350/2000, Train Loss: 0.1836446076631546, Test Loss: 0.199682354927063\n",
            "Epoch: 400/2000, Train Loss: 0.16980843245983124, Test Loss: 0.18358883261680603\n",
            "Epoch: 450/2000, Train Loss: 0.15869979560375214, Test Loss: 0.17042015492916107\n",
            "Epoch: 500/2000, Train Loss: 0.1495768427848816, Test Loss: 0.15943391621112823\n",
            "Epoch: 550/2000, Train Loss: 0.1419408768415451, Test Loss: 0.15011689066886902\n",
            "Epoch: 600/2000, Train Loss: 0.13544589281082153, Test Loss: 0.1421051025390625\n",
            "Epoch: 650/2000, Train Loss: 0.12984517216682434, Test Loss: 0.13513398170471191\n",
            "Epoch: 700/2000, Train Loss: 0.12495842576026917, Test Loss: 0.1290069967508316\n",
            "Epoch: 750/2000, Train Loss: 0.12065084278583527, Test Loss: 0.12357517331838608\n",
            "Epoch: 800/2000, Train Loss: 0.11681972444057465, Test Loss: 0.1187233105301857\n",
            "Epoch: 850/2000, Train Loss: 0.11338581144809723, Test Loss: 0.11436136811971664\n",
            "Epoch: 900/2000, Train Loss: 0.1102866604924202, Test Loss: 0.11041741818189621\n",
            "Epoch: 950/2000, Train Loss: 0.10747223347425461, Test Loss: 0.10683345794677734\n",
            "Epoch: 1000/2000, Train Loss: 0.10490257292985916, Test Loss: 0.10356218367815018\n",
            "Epoch: 1050/2000, Train Loss: 0.10254474729299545, Test Loss: 0.10056442767381668\n",
            "Epoch: 1100/2000, Train Loss: 0.10037174075841904, Test Loss: 0.09780760109424591\n",
            "Epoch: 1150/2000, Train Loss: 0.098361074924469, Test Loss: 0.09526429325342178\n",
            "Epoch: 1200/2000, Train Loss: 0.09649396687746048, Test Loss: 0.0929112434387207\n",
            "Epoch: 1250/2000, Train Loss: 0.09475424885749817, Test Loss: 0.09072848409414291\n",
            "Epoch: 1300/2000, Train Loss: 0.09312847256660461, Test Loss: 0.08869888633489609\n",
            "Epoch: 1350/2000, Train Loss: 0.09160476177930832, Test Loss: 0.08680761605501175\n",
            "Epoch: 1400/2000, Train Loss: 0.09017322212457657, Test Loss: 0.08504173159599304\n",
            "Epoch: 1450/2000, Train Loss: 0.08882499486207962, Test Loss: 0.08338987827301025\n",
            "Epoch: 1500/2000, Train Loss: 0.08755239844322205, Test Loss: 0.08184214681386948\n",
            "Epoch: 1550/2000, Train Loss: 0.086348757147789, Test Loss: 0.08038971573114395\n",
            "Epoch: 1600/2000, Train Loss: 0.08520804345607758, Test Loss: 0.07902476191520691\n",
            "Epoch: 1650/2000, Train Loss: 0.0841251015663147, Test Loss: 0.07774026691913605\n",
            "Epoch: 1700/2000, Train Loss: 0.08309523016214371, Test Loss: 0.07653002440929413\n",
            "Epoch: 1750/2000, Train Loss: 0.08211423456668854, Test Loss: 0.07538852840662003\n",
            "Epoch: 1800/2000, Train Loss: 0.08117838203907013, Test Loss: 0.07431065291166306\n",
            "Epoch: 1850/2000, Train Loss: 0.08028428256511688, Test Loss: 0.07329192757606506\n",
            "Epoch: 1900/2000, Train Loss: 0.07942892611026764, Test Loss: 0.07232819497585297\n",
            "Epoch: 1950/2000, Train Loss: 0.07860956341028214, Test Loss: 0.07141577452421188\n",
            "Epoch: 2000/2000, Train Loss: 0.07782366126775742, Test Loss: 0.07055134326219559\n"
          ],
          "name": "stdout"
        }
      ]
    },
    {
      "cell_type": "code",
      "metadata": {
        "id": "Q5j_t3GIY3cZ",
        "colab_type": "code",
        "colab": {
          "base_uri": "https://localhost:8080/",
          "height": 265
        },
        "outputId": "6885c0b2-ec81-436b-cbec-ea429040d054"
      },
      "source": [
        "# Plot the train and test losses\n",
        "plt.plot(train_losses, label='train')\n",
        "plt.plot(test_losses, label='test')\n",
        "plt.legend()\n",
        "plt.show()"
      ],
      "execution_count": 13,
      "outputs": [
        {
          "output_type": "display_data",
          "data": {
            "image/png": "[encoded data removed]",
            "text/plain": [
              "<Figure size 432x288 with 1 Axes>"
            ]
          },
          "metadata": {
            "tags": [],
            "needs_background": "light"
          }
        }
      ]
    },
    {
      "cell_type": "code",
      "metadata": {
        "id": "DIe_WyT2aXZs",
        "colab_type": "code",
        "colab": {
          "base_uri": "https://localhost:8080/",
          "height": 34
        },
        "outputId": "ca4c848b-f0ae-4c71-b26d-89a0fd326e1f"
      },
      "source": [
        "# Get the accuracy\n",
        "with torch.no_grad():\n",
        "    p_train = model(X_train) # Calculate the prediction\n",
        "    p_train = np.round(p_train.numpy()) # convert tensors to np, and round them\n",
        "    train_accuracy = np.mean(y_train.numpy() == p_train) # point-wise comparison and take the mean\n",
        "\n",
        "    p_test = model(X_test)\n",
        "    p_test = np.round(p_test.numpy())\n",
        "    test_accuracy = np.mean(y_test.numpy() == p_test)\n",
        "\n",
        "print('Train Accuracy: {}, Test Accuracy: {}'.format(train_accuracy, test_accuracy))"
      ],
      "execution_count": 12,
      "outputs": [
        {
          "output_type": "stream",
          "text": [
            "Train Accuracy: 0.984251968503937, Test Accuracy: 0.9840425531914894\n"
          ],
          "name": "stdout"
        }
      ]
    },
    {
      "cell_type": "code",
      "metadata": {
        "id": "nNl9hvT0b-zL",
        "colab_type": "code",
        "colab": {
          "base_uri": "https://localhost:8080/",
          "height": 141
        },
        "outputId": "5b7e974f-20cd-4e99-a1db-1e1c92771002"
      },
      "source": [
        "# Look at the state dict\n",
        "# This is an ordered dictionary containing the parameters of the model\n",
        "\n",
        "model.state_dict()"
      ],
      "execution_count": 14,
      "outputs": [
        {
          "output_type": "execute_result",
          "data": {
            "text/plain": [
              "OrderedDict([('0.weight',\n",
              "              tensor([[-0.5540, -0.5192, -0.5583, -0.4297, -0.2524,  0.0057, -0.5746, -0.4578,\n",
              "                       -0.0812,  0.5994, -0.4889,  0.0191, -0.6394, -0.4460, -0.2235,  0.3529,\n",
              "                        0.1493, -0.2039,  0.2449,  0.6609, -0.4673, -0.5579, -0.4269, -0.4084,\n",
              "                       -0.3644, -0.2995, -0.6204, -0.5166, -0.5156, -0.3807]])),\n",
              "             ('0.bias', tensor([0.3738]))])"
            ]
          },
          "metadata": {
            "tags": []
          },
          "execution_count": 14
        }
      ]
    },
    {
      "cell_type": "code",
      "metadata": {
        "id": "vzu4lyZucMxN",
        "colab_type": "code",
        "colab": {}
      },
      "source": [
        "# Save the model\n",
        "torch.save(model.state_dict(), 'LinearClassification.pt')"
      ],
      "execution_count": 0,
      "outputs": []
    },
    {
      "cell_type": "code",
      "metadata": {
        "id": "8SpSR0pocWXs",
        "colab_type": "code",
        "colab": {
          "base_uri": "https://localhost:8080/",
          "height": 34
        },
        "outputId": "c9b54b76-54ff-4fb9-e1e8-50691c032d95"
      },
      "source": [
        "# Load the model\n",
        "model2 = nn.Sequential(\n",
        "    nn.Linear(D, 1),\n",
        "    nn.Sigmoid()\n",
        ")\n",
        "\n",
        "model2.load_state_dict(torch.load('LinearClassification.pt'))"
      ],
      "execution_count": 17,
      "outputs": [
        {
          "output_type": "execute_result",
          "data": {
            "text/plain": [
              "<All keys matched successfully>"
            ]
          },
          "metadata": {
            "tags": []
          },
          "execution_count": 17
        }
      ]
    },
    {
      "cell_type": "code",
      "metadata": {
        "id": "nXGrmWfTcmE_",
        "colab_type": "code",
        "colab": {
          "base_uri": "https://localhost:8080/",
          "height": 34
        },
        "outputId": "f2b00f70-126e-4cfb-e0dd-199b7e8d9048"
      },
      "source": [
        "# Evaluate the model\n",
        "with torch.no_grad():\n",
        "    p_train = model2(X_train) # Calculate the prediction\n",
        "    p_train = np.round(p_train.numpy()) # convert tensors to np, and round them\n",
        "    train_accuracy = np.mean(y_train.numpy() == p_train) # point-wise comparison and take the mean\n",
        "\n",
        "    p_test = model2(X_test)\n",
        "    p_test = np.round(p_test.numpy())\n",
        "    test_accuracy = np.mean(y_test.numpy() == p_test)\n",
        "\n",
        "print('Train Accuracy: {}, Test Accuracy: {}'.format(train_accuracy, test_accuracy))"
      ],
      "execution_count": 18,
      "outputs": [
        {
          "output_type": "stream",
          "text": [
            "Train Accuracy: 0.984251968503937, Test Accuracy: 0.9840425531914894\n"
          ],
          "name": "stdout"
        }
      ]
    },
    {
      "cell_type": "code",
      "metadata": {
        "id": "38PxDcEOc5ew",
        "colab_type": "code",
        "colab": {}
      },
      "source": [
        ""
      ],
      "execution_count": 0,
      "outputs": []
    }
  ]
}