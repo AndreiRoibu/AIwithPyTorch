{
  "nbformat": 4,
  "nbformat_minor": 0,
  "metadata": {
    "colab": {
      "name": "Linear_Classification.ipynb",
      "provenance": [],
      "collapsed_sections": []
    },
    "kernelspec": {
      "name": "python3",
      "display_name": "Python 3"
    }
  },
  "cells": [
    {
      "cell_type": "code",
      "metadata": {
        "id": "ruyxiJl6z7Y8"
      },
      "source": [
        "# Import the relevant modules\n",
        "import torch\n",
        "import torch.nn as nn\n",
        "import numpy as np\n",
        "import matplotlib.pyplot as plt\n",
        "import seaborn as sns\n",
        "sns.set()\n",
        "from sklearn.datasets import load_breast_cancer\n",
        "from sklearn.model_selection import train_test_split\n",
        "from sklearn.preprocessing import StandardScaler"
      ],
      "execution_count": 1,
      "outputs": []
    },
    {
      "cell_type": "code",
      "metadata": {
        "id": "OWZnooyj0JkH"
      },
      "source": [
        "# Load the data\n",
        "data = load_breast_cancer()"
      ],
      "execution_count": 2,
      "outputs": []
    },
    {
      "cell_type": "code",
      "metadata": {
        "id": "pXaR01g60NC6",
        "outputId": "8360a031-13f1-4ebf-f236-42b9d2c904cf",
        "colab": {
          "base_uri": "https://localhost:8080/"
        }
      },
      "source": [
        "# Check data properties\n",
        "print(\"Type:\", type(data))"
      ],
      "execution_count": 3,
      "outputs": [
        {
          "output_type": "stream",
          "name": "stdout",
          "text": [
            "Type: <class 'sklearn.utils.Bunch'>\n"
          ]
        }
      ]
    },
    {
      "cell_type": "code",
      "metadata": {
        "id": "jxJEAoIf0Vy6",
        "outputId": "9aebe3c8-63aa-4e3d-99a8-362f8f2c478d",
        "colab": {
          "base_uri": "https://localhost:8080/"
        }
      },
      "source": [
        "print(\"Keys:\", data.keys()) # Shows the keys of the data\n",
        "print(\"Shape:\", data.data.shape) # Check the shape of X\n",
        "print(\"Targets:\", data.target.shape) # Check the shape of Y\n",
        "print(\"Feature Names:\", data.feature_names) # Print the input feature names\n",
        "print(\"Targets Names:\", data.target_names)"
      ],
      "execution_count": 4,
      "outputs": [
        {
          "output_type": "stream",
          "name": "stdout",
          "text": [
            "Keys: dict_keys(['data', 'target', 'frame', 'target_names', 'DESCR', 'feature_names', 'filename', 'data_module'])\n",
            "Shape: (569, 30)\n",
            "Targets: (569,)\n",
            "Feature Names: ['mean radius' 'mean texture' 'mean perimeter' 'mean area'\n",
            " 'mean smoothness' 'mean compactness' 'mean concavity'\n",
            " 'mean concave points' 'mean symmetry' 'mean fractal dimension'\n",
            " 'radius error' 'texture error' 'perimeter error' 'area error'\n",
            " 'smoothness error' 'compactness error' 'concavity error'\n",
            " 'concave points error' 'symmetry error' 'fractal dimension error'\n",
            " 'worst radius' 'worst texture' 'worst perimeter' 'worst area'\n",
            " 'worst smoothness' 'worst compactness' 'worst concavity'\n",
            " 'worst concave points' 'worst symmetry' 'worst fractal dimension']\n",
            "Targets Names: ['malignant' 'benign']\n"
          ]
        }
      ]
    },
    {
      "cell_type": "code",
      "metadata": {
        "id": "Jy_cojkJ0yzy"
      },
      "source": [
        "# We split the data into train and test data\n",
        "X_train, X_test, y_train, y_test = train_test_split(data.data, data.target, test_size = 0.33)\n",
        "N, D = X_train.shape"
      ],
      "execution_count": 5,
      "outputs": []
    },
    {
      "cell_type": "code",
      "metadata": {
        "id": "DLMYA4D-1N7G"
      },
      "source": [
        "# We scale the data\n",
        "# StandardScaler is used for normalizing the data\n",
        "# This is to prevent inputs from having very different ranges\n",
        "\n",
        "scaler = StandardScaler()\n",
        "X_train = scaler.fit_transform(X_train)\n",
        "X_test = scaler.fit_transform(X_test)"
      ],
      "execution_count": 6,
      "outputs": []
    },
    {
      "cell_type": "code",
      "metadata": {
        "id": "ODhgGhPg1ejz"
      },
      "source": [
        "# We build the model\n",
        "# Sigmoid to make sure the output is 0/1 \n",
        "\n",
        "model = nn.Sequential(\n",
        "    nn.Linear(D, 1),\n",
        "    nn.Sigmoid()\n",
        ")"
      ],
      "execution_count": 7,
      "outputs": []
    },
    {
      "cell_type": "code",
      "metadata": {
        "id": "c-kiRzEGQIUa"
      },
      "source": [
        "# Loss and optimizer\n",
        "\n",
        "criterion = nn.BCELoss() # Binary Cross Entropy Loss\n",
        "optimizer = torch.optim.Adam(model.parameters())"
      ],
      "execution_count": 9,
      "outputs": []
    },
    {
      "cell_type": "code",
      "metadata": {
        "id": "6Y20Eh4nQYnJ"
      },
      "source": [
        "# We convert the data into Torch Tensors\n",
        "X_train = torch.from_numpy(X_train.astype(np.float32))\n",
        "X_test = torch.from_numpy(X_test.astype(np.float32))\n",
        "\n",
        "# Targets are reshaped to be 2D arrays of shape Nx1\n",
        "y_train = torch.from_numpy(y_train.astype(np.float32).reshape(-1, 1))\n",
        "y_test = torch.from_numpy(y_test.astype(np.float32).reshape(-1, 1))"
      ],
      "execution_count": 10,
      "outputs": []
    },
    {
      "cell_type": "code",
      "metadata": {
        "id": "yh66Ivg6Q1LB",
        "colab": {
          "base_uri": "https://localhost:8080/"
        },
        "outputId": "8fd01f0b-9f04-476a-cd15-b70620071bd8"
      },
      "source": [
        "# Train the model\n",
        "number_epochs = 2000\n",
        "train_losses = np.zeros(number_epochs)\n",
        "test_losses = np.zeros(number_epochs)\n",
        "\n",
        "for iteration in range(number_epochs):\n",
        "\n",
        "    # We train the model\n",
        "    optimizer.zero_grad()\n",
        "    outputs = model(X_train)\n",
        "    loss = criterion(outputs, y_train)\n",
        "    loss.backward()\n",
        "    optimizer.step()\n",
        "\n",
        "    # We are also interested in the test/validation loss, to make sure we are not overtiffing\n",
        "    outputs_test = model(X_test)\n",
        "    loss_test = criterion(outputs_test, y_test)\n",
        "\n",
        "    # We save the losses\n",
        "    train_losses[iteration] = loss.item()\n",
        "    test_losses[iteration] = loss_test.item()\n",
        "\n",
        "    if (iteration+1) % 50 == 0:\n",
        "        print(\"Epoch: {}/{}, Train Loss: {:.5f}, Test Loss: {:5f}\".format(iteration+1, number_epochs, loss.item(), loss_test.item()))"
      ],
      "execution_count": 11,
      "outputs": [
        {
          "output_type": "stream",
          "name": "stdout",
          "text": [
            "Epoch: 50/2000, Train Loss: 0.44031, Test Loss: 0.422903\n",
            "Epoch: 100/2000, Train Loss: 0.32819, Test Loss: 0.320691\n",
            "Epoch: 150/2000, Train Loss: 0.26488, Test Loss: 0.261279\n",
            "Epoch: 200/2000, Train Loss: 0.22472, Test Loss: 0.223027\n",
            "Epoch: 250/2000, Train Loss: 0.19709, Test Loss: 0.196630\n",
            "Epoch: 300/2000, Train Loss: 0.17697, Test Loss: 0.177405\n",
            "Epoch: 350/2000, Train Loss: 0.16166, Test Loss: 0.162792\n",
            "Epoch: 400/2000, Train Loss: 0.14961, Test Loss: 0.151301\n",
            "Epoch: 450/2000, Train Loss: 0.13985, Test Loss: 0.142019\n",
            "Epoch: 500/2000, Train Loss: 0.13176, Test Loss: 0.134358\n",
            "Epoch: 550/2000, Train Loss: 0.12493, Test Loss: 0.127922\n",
            "Epoch: 600/2000, Train Loss: 0.11906, Test Loss: 0.122436\n",
            "Epoch: 650/2000, Train Loss: 0.11395, Test Loss: 0.117703\n",
            "Epoch: 700/2000, Train Loss: 0.10945, Test Loss: 0.113580\n",
            "Epoch: 750/2000, Train Loss: 0.10545, Test Loss: 0.109959\n",
            "Epoch: 800/2000, Train Loss: 0.10186, Test Loss: 0.106757\n",
            "Epoch: 850/2000, Train Loss: 0.09861, Test Loss: 0.103909\n",
            "Epoch: 900/2000, Train Loss: 0.09565, Test Loss: 0.101365\n",
            "Epoch: 950/2000, Train Loss: 0.09293, Test Loss: 0.099085\n",
            "Epoch: 1000/2000, Train Loss: 0.09044, Test Loss: 0.097035\n",
            "Epoch: 1050/2000, Train Loss: 0.08813, Test Loss: 0.095188\n",
            "Epoch: 1100/2000, Train Loss: 0.08598, Test Loss: 0.093522\n",
            "Epoch: 1150/2000, Train Loss: 0.08398, Test Loss: 0.092019\n",
            "Epoch: 1200/2000, Train Loss: 0.08211, Test Loss: 0.090663\n",
            "Epoch: 1250/2000, Train Loss: 0.08035, Test Loss: 0.089440\n",
            "Epoch: 1300/2000, Train Loss: 0.07870, Test Loss: 0.088340\n",
            "Epoch: 1350/2000, Train Loss: 0.07714, Test Loss: 0.087352\n",
            "Epoch: 1400/2000, Train Loss: 0.07567, Test Loss: 0.086468\n",
            "Epoch: 1450/2000, Train Loss: 0.07427, Test Loss: 0.085681\n",
            "Epoch: 1500/2000, Train Loss: 0.07295, Test Loss: 0.084984\n",
            "Epoch: 1550/2000, Train Loss: 0.07169, Test Loss: 0.084372\n",
            "Epoch: 1600/2000, Train Loss: 0.07049, Test Loss: 0.083840\n",
            "Epoch: 1650/2000, Train Loss: 0.06934, Test Loss: 0.083384\n",
            "Epoch: 1700/2000, Train Loss: 0.06825, Test Loss: 0.082999\n",
            "Epoch: 1750/2000, Train Loss: 0.06720, Test Loss: 0.082682\n",
            "Epoch: 1800/2000, Train Loss: 0.06620, Test Loss: 0.082429\n",
            "Epoch: 1850/2000, Train Loss: 0.06523, Test Loss: 0.082237\n",
            "Epoch: 1900/2000, Train Loss: 0.06431, Test Loss: 0.082105\n",
            "Epoch: 1950/2000, Train Loss: 0.06342, Test Loss: 0.082028\n",
            "Epoch: 2000/2000, Train Loss: 0.06256, Test Loss: 0.082004\n"
          ]
        }
      ]
    },
    {
      "cell_type": "code",
      "metadata": {
        "id": "Q5j_t3GIY3cZ",
        "colab": {
          "base_uri": "https://localhost:8080/",
          "height": 268
        },
        "outputId": "7607f8c0-3e4d-4f00-872d-318d21eaf393"
      },
      "source": [
        "# Plot the train and test losses\n",
        "plt.plot(train_losses, label='train')\n",
        "plt.plot(test_losses, label='test')\n",
        "plt.legend()\n",
        "plt.show()"
      ],
      "execution_count": 12,
      "outputs": [
        {
          "output_type": "display_data",
          "data": {
            "image/png": "[encoded data removed]",
            "text/plain": [
              "<Figure size 432x288 with 1 Axes>"
            ]
          },
          "metadata": {
            "needs_background": "light"
          }
        }
      ]
    },
    {
      "cell_type": "code",
      "metadata": {
        "id": "DIe_WyT2aXZs",
        "colab": {
          "base_uri": "https://localhost:8080/"
        },
        "outputId": "3b9621f6-00e9-4ab7-fd9b-146be8743a37"
      },
      "source": [
        "# Get the accuracy\n",
        "with torch.no_grad():\n",
        "    p_train = model(X_train) # Calculate the prediction\n",
        "    p_train = np.round(p_train.numpy()) # convert tensors to np, and round them\n",
        "    train_accuracy = np.mean(y_train.numpy() == p_train) # point-wise comparison and take the mean\n",
        "\n",
        "    p_test = model(X_test)\n",
        "    p_test = np.round(p_test.numpy())\n",
        "    test_accuracy = np.mean(y_test.numpy() == p_test)\n",
        "\n",
        "print('Train Accuracy: {}, Test Accuracy: {}'.format(train_accuracy, test_accuracy))"
      ],
      "execution_count": 13,
      "outputs": [
        {
          "output_type": "stream",
          "name": "stdout",
          "text": [
            "Train Accuracy: 0.9868766404199475, Test Accuracy: 0.9840425531914894\n"
          ]
        }
      ]
    },
    {
      "cell_type": "code",
      "metadata": {
        "id": "nNl9hvT0b-zL",
        "colab": {
          "base_uri": "https://localhost:8080/"
        },
        "outputId": "42b918ba-1a35-4126-f3c6-1ae1b35c7e00"
      },
      "source": [
        "# Look at the state dict\n",
        "# This is an ordered dictionary containing the parameters of the model\n",
        "\n",
        "model.state_dict()"
      ],
      "execution_count": 14,
      "outputs": [
        {
          "output_type": "execute_result",
          "data": {
            "text/plain": [
              "OrderedDict([('0.weight',\n",
              "              tensor([[-0.3629, -0.6469, -0.6450, -0.4166, -0.1445, -0.2198, -0.7215, -0.4966,\n",
              "                       -0.1642,  0.7043, -0.5615,  0.3237, -0.5195, -0.5029, -0.1920,  0.8890,\n",
              "                        0.0109, -0.4300,  0.3924,  0.4940, -0.5816, -0.7538, -0.4077, -0.6343,\n",
              "                       -0.5048, -0.1590, -0.5495, -0.4894, -0.5290, -0.5491]])),\n",
              "             ('0.bias', tensor([0.6421]))])"
            ]
          },
          "metadata": {},
          "execution_count": 14
        }
      ]
    },
    {
      "cell_type": "code",
      "metadata": {
        "id": "vzu4lyZucMxN"
      },
      "source": [
        "# Save the model\n",
        "torch.save(model.state_dict(), 'LinearClassification.pt')"
      ],
      "execution_count": 15,
      "outputs": []
    },
    {
      "cell_type": "code",
      "metadata": {
        "id": "8SpSR0pocWXs",
        "colab": {
          "base_uri": "https://localhost:8080/"
        },
        "outputId": "a4d3426f-4ae8-4fa7-bb5b-a98afb298bf5"
      },
      "source": [
        "# Load the model\n",
        "model2 = nn.Sequential(\n",
        "    nn.Linear(D, 1),\n",
        "    nn.Sigmoid()\n",
        ")\n",
        "\n",
        "model2.load_state_dict(torch.load('LinearClassification.pt'))"
      ],
      "execution_count": 16,
      "outputs": [
        {
          "output_type": "execute_result",
          "data": {
            "text/plain": [
              "<All keys matched successfully>"
            ]
          },
          "metadata": {},
          "execution_count": 16
        }
      ]
    },
    {
      "cell_type": "code",
      "metadata": {
        "id": "nXGrmWfTcmE_",
        "colab": {
          "base_uri": "https://localhost:8080/"
        },
        "outputId": "500d8d10-5b55-4d34-bac6-b6e24cda2d3f"
      },
      "source": [
        "# Evaluate the model\n",
        "with torch.no_grad():\n",
        "    p_train = model2(X_train) # Calculate the prediction\n",
        "    p_train = np.round(p_train.numpy()) # convert tensors to np, and round them\n",
        "    train_accuracy = np.mean(y_train.numpy() == p_train) # point-wise comparison and take the mean\n",
        "\n",
        "    p_test = model2(X_test)\n",
        "    p_test = np.round(p_test.numpy())\n",
        "    test_accuracy = np.mean(y_test.numpy() == p_test)\n",
        "\n",
        "print('Train Accuracy: {}, Test Accuracy: {}'.format(train_accuracy, test_accuracy))"
      ],
      "execution_count": 17,
      "outputs": [
        {
          "output_type": "stream",
          "name": "stdout",
          "text": [
            "Train Accuracy: 0.9868766404199475, Test Accuracy: 0.9840425531914894\n"
          ]
        }
      ]
    },
    {
      "cell_type": "code",
      "metadata": {
        "id": "38PxDcEOc5ew"
      },
      "source": [
        ""
      ],
      "execution_count": null,
      "outputs": []
    }
  ]
}