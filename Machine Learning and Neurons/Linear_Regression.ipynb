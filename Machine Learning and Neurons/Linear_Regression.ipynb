{
  "nbformat": 4,
  "nbformat_minor": 0,
  "metadata": {
    "colab": {
      "name": "Linear_Regression.ipynb",
      "provenance": [],
      "collapsed_sections": []
    },
    "kernelspec": {
      "name": "python3",
      "display_name": "Python 3"
    }
  },
  "cells": [
    {
      "cell_type": "code",
      "metadata": {
        "id": "ejZ5lymsiJUI"
      },
      "source": [
        "# We start by doing the required imports\n",
        "\n",
        "import torch\n",
        "import torch.nn as nn\n",
        "import numpy as np\n",
        "import matplotlib.pyplot as plt\n",
        "import seaborn as sns\n",
        "sns.set()"
      ],
      "execution_count": 2,
      "outputs": []
    },
    {
      "cell_type": "code",
      "metadata": {
        "id": "N0KsG1t7nLU7",
        "colab": {
          "base_uri": "https://localhost:8080/"
        },
        "outputId": "7f880b32-3a2f-4236-bd7a-32ebbdbd98eb"
      },
      "source": [
        "N = 100 # Number of data points\n",
        "X = np.random.random(N) * 10 - 5 # Random data in range [-5, 5]\n",
        "y = 0.5 * X - 1 + np.random.randn(N) # A line plus noise\n",
        "\n",
        "print(X.shape)\n",
        "# True slope = 0.5\n",
        "# True line intercept = -1\n",
        "# Gaussia noise with mean=0 and variance=1 is added as this is directly linked with MSE as a loss function"
      ],
      "execution_count": 3,
      "outputs": [
        {
          "output_type": "stream",
          "name": "stdout",
          "text": [
            "(100,)\n"
          ]
        }
      ]
    },
    {
      "cell_type": "code",
      "metadata": {
        "id": "M815MoFEni4r",
        "colab": {
          "base_uri": "https://localhost:8080/",
          "height": 285
        },
        "outputId": "97652b25-483d-40c0-8108-1fd1d32bd322"
      },
      "source": [
        "plt.scatter(X, y) # Visualise the data"
      ],
      "execution_count": 4,
      "outputs": [
        {
          "output_type": "execute_result",
          "data": {
            "text/plain": [
              "<matplotlib.collections.PathCollection at 0x7f895e53fcd0>"
            ]
          },
          "metadata": {},
          "execution_count": 4
        },
        {
          "output_type": "display_data",
          "data": {
            "image/png": "[encoded data removed]",
            "text/plain": [
              "<Figure size 432x288 with 1 Axes>"
            ]
          },
          "metadata": {}
        }
      ]
    },
    {
      "cell_type": "code",
      "metadata": {
        "id": "j2ZFkJhAnkd5"
      },
      "source": [
        "# Create the linear regression model \n",
        "# The model has 1 input and 1 output\n",
        "model = nn.Linear(1,1)"
      ],
      "execution_count": 5,
      "outputs": []
    },
    {
      "cell_type": "code",
      "metadata": {
        "id": "oInxIZJDoZU3"
      },
      "source": [
        "# Define the loss and optimizer\n",
        "criterion = nn.MSELoss()\n",
        "optimizer = torch.optim.SGD(model.parameters(), lr= 0.05)"
      ],
      "execution_count": 6,
      "outputs": []
    },
    {
      "cell_type": "code",
      "metadata": {
        "id": "EVci1_7Go023",
        "colab": {
          "base_uri": "https://localhost:8080/"
        },
        "outputId": "6c22fec3-a891-4cbb-a488-54cdf6b671d3"
      },
      "source": [
        "# Reshape the data and define the inputs\n",
        "X = X.reshape(N,1) # Number of samples x Number of Dimensions\n",
        "y = y.reshape(N,1)\n",
        "\n",
        "print(X.shape)\n",
        "\n",
        "inputs = torch.from_numpy(X.astype(np.float32))\n",
        "targets = torch.from_numpy(y.astype(np.float32))"
      ],
      "execution_count": 7,
      "outputs": [
        {
          "output_type": "stream",
          "name": "stdout",
          "text": [
            "(100, 1)\n"
          ]
        }
      ]
    },
    {
      "cell_type": "code",
      "metadata": {
        "id": "xCn49_AopMxq",
        "colab": {
          "base_uri": "https://localhost:8080/"
        },
        "outputId": "470c556d-7c0c-4159-9346-a69329692b8f"
      },
      "source": [
        "# Now we train the model\n",
        "number_epochs = 30\n",
        "losses = []\n",
        "for iteration in range(number_epochs):\n",
        "    optimizer.zero_grad() # zero the parameter gradients. PyTorch accumulates the gradients for every .backward() call\n",
        "    outputs = model(inputs)\n",
        "    loss = criterion(outputs, targets)\n",
        "    losses.append(loss.item())\n",
        "    loss.backward()\n",
        "    optimizer.step()\n",
        "    print('Epoch {}/{}, Loss: {:.6f}'.format(iteration+1, number_epochs, loss.item()))"
      ],
      "execution_count": 9,
      "outputs": [
        {
          "output_type": "stream",
          "name": "stdout",
          "text": [
            "Epoch 1/30, Loss: 1.217078\n",
            "Epoch 2/30, Loss: 1.216785\n",
            "Epoch 3/30, Loss: 1.216548\n",
            "Epoch 4/30, Loss: 1.216356\n",
            "Epoch 5/30, Loss: 1.216201\n",
            "Epoch 6/30, Loss: 1.216074\n",
            "Epoch 7/30, Loss: 1.215972\n",
            "Epoch 8/30, Loss: 1.215889\n",
            "Epoch 9/30, Loss: 1.215822\n",
            "Epoch 10/30, Loss: 1.215768\n",
            "Epoch 11/30, Loss: 1.215724\n",
            "Epoch 12/30, Loss: 1.215688\n",
            "Epoch 13/30, Loss: 1.215659\n",
            "Epoch 14/30, Loss: 1.215635\n",
            "Epoch 15/30, Loss: 1.215616\n",
            "Epoch 16/30, Loss: 1.215601\n",
            "Epoch 17/30, Loss: 1.215588\n",
            "Epoch 18/30, Loss: 1.215578\n",
            "Epoch 19/30, Loss: 1.215570\n",
            "Epoch 20/30, Loss: 1.215563\n",
            "Epoch 21/30, Loss: 1.215558\n",
            "Epoch 22/30, Loss: 1.215553\n",
            "Epoch 23/30, Loss: 1.215550\n",
            "Epoch 24/30, Loss: 1.215547\n",
            "Epoch 25/30, Loss: 1.215545\n",
            "Epoch 26/30, Loss: 1.215543\n",
            "Epoch 27/30, Loss: 1.215541\n",
            "Epoch 28/30, Loss: 1.215540\n",
            "Epoch 29/30, Loss: 1.215539\n",
            "Epoch 30/30, Loss: 1.215538\n"
          ]
        }
      ]
    },
    {
      "cell_type": "code",
      "metadata": {
        "id": "BJWC5VqHpz1h",
        "colab": {
          "base_uri": "https://localhost:8080/",
          "height": 285
        },
        "outputId": "252d0fb6-8b67-49aa-c95f-ddd80432a1ac"
      },
      "source": [
        "# Plot the losses\n",
        "plt.plot(losses)"
      ],
      "execution_count": 10,
      "outputs": [
        {
          "output_type": "execute_result",
          "data": {
            "text/plain": [
              "[<matplotlib.lines.Line2D at 0x7f895d812590>]"
            ]
          },
          "metadata": {},
          "execution_count": 10
        },
        {
          "output_type": "display_data",
          "data": {
            "image/png": "[encoded data removed]",
            "text/plain": [
              "<Figure size 432x288 with 1 Axes>"
            ]
          },
          "metadata": {}
        }
      ]
    },
    {
      "cell_type": "code",
      "metadata": {
        "id": "8fCMnURyp3kS",
        "colab": {
          "base_uri": "https://localhost:8080/",
          "height": 268
        },
        "outputId": "c0be0ea7-f373-490d-9fcd-0fd86c51dbd7"
      },
      "source": [
        "# Plot the graph of predictions\n",
        "predicted = model(inputs).detach().numpy()\n",
        "plt.scatter(X, y, label='Original Data')\n",
        "plt.plot(X, predicted, label='Fitted Line', color='r', linestyle='--')\n",
        "plt.legend()\n",
        "plt.show()"
      ],
      "execution_count": 14,
      "outputs": [
        {
          "output_type": "display_data",
          "data": {
            "image/png": "[encoded data removed]",
            "text/plain": [
              "<Figure size 432x288 with 1 Axes>"
            ]
          },
          "metadata": {}
        }
      ]
    },
    {
      "cell_type": "code",
      "metadata": {
        "id": "fo0sCGk9qNZR",
        "colab": {
          "base_uri": "https://localhost:8080/"
        },
        "outputId": "7cb3e8f4-169f-478b-a375-9049c939a305"
      },
      "source": [
        "# Test the model values (true w = 0.5, b = -1)\n",
        "w = model.weight.data.numpy()\n",
        "b = model.bias.data.numpy()\n",
        "print(w,b)"
      ],
      "execution_count": 15,
      "outputs": [
        {
          "output_type": "stream",
          "name": "stdout",
          "text": [
            "[[0.5280149]] [-1.0333322]\n"
          ]
        }
      ]
    },
    {
      "cell_type": "code",
      "metadata": {
        "id": "IsGT32T-qgCu"
      },
      "source": [
        ""
      ],
      "execution_count": null,
      "outputs": []
    }
  ]
}