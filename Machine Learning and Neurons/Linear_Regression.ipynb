{
  "nbformat": 4,
  "nbformat_minor": 0,
  "metadata": {
    "colab": {
      "name": "Linear Regression.ipynb",
      "provenance": []
    },
    "kernelspec": {
      "name": "python3",
      "display_name": "Python 3"
    }
  },
  "cells": [
    {
      "cell_type": "code",
      "metadata": {
        "id": "ejZ5lymsiJUI",
        "colab_type": "code",
        "colab": {}
      },
      "source": [
        "# We start by doing the required imports\n",
        "\n",
        "import torch\n",
        "import torch.nn as nn\n",
        "import numpy as np\n",
        "import matplotlib.pyplot as plt"
      ],
      "execution_count": 0,
      "outputs": []
    },
    {
      "cell_type": "code",
      "metadata": {
        "id": "N0KsG1t7nLU7",
        "colab_type": "code",
        "colab": {}
      },
      "source": [
        "N = 100 # Number of data points\n",
        "X = np.random.random(N) * 10 - 5 # Random data in range [-5, 5]\n",
        "y = 0.5 * X - 1 + np.random.randn(N) # A line plus noise\n",
        "\n",
        "# True slope = 0.5\n",
        "# True line intercept = -1\n",
        "# Gaussia noise with mean=0 and variance=1 is added as this is directly linked with MSE as a loss function"
      ],
      "execution_count": 0,
      "outputs": []
    },
    {
      "cell_type": "code",
      "metadata": {
        "id": "M815MoFEni4r",
        "colab_type": "code",
        "outputId": "719c62b4-c728-4e81-8537-a18b92e115d1",
        "colab": {
          "base_uri": "https://localhost:8080/",
          "height": 282
        }
      },
      "source": [
        "plt.scatter(X, y) # Visualise the data"
      ],
      "execution_count": 0,
      "outputs": [
        {
          "output_type": "execute_result",
          "data": {
            "text/plain": [
              "<matplotlib.collections.PathCollection at 0x7fb28978af60>"
            ]
          },
          "metadata": {
            "tags": []
          },
          "execution_count": 3
        },
        {
          "output_type": "display_data",
          "data": {
            "image/png": "[encoded data removed]",
            "text/plain": [
              "<Figure size 432x288 with 1 Axes>"
            ]
          },
          "metadata": {
            "tags": [],
            "needs_background": "light"
          }
        }
      ]
    },
    {
      "cell_type": "code",
      "metadata": {
        "id": "j2ZFkJhAnkd5",
        "colab_type": "code",
        "colab": {}
      },
      "source": [
        "# Create the linear regression model \n",
        "# The model has 1 input and 1 output\n",
        "model = nn.Linear(1,1)"
      ],
      "execution_count": 0,
      "outputs": []
    },
    {
      "cell_type": "code",
      "metadata": {
        "id": "oInxIZJDoZU3",
        "colab_type": "code",
        "colab": {}
      },
      "source": [
        "# Define the loss and optimizer\n",
        "criterion = nn.MSELoss()\n",
        "optimizer = torch.optim.SGD(model.parameters(), lr= 0.05)"
      ],
      "execution_count": 0,
      "outputs": []
    },
    {
      "cell_type": "code",
      "metadata": {
        "id": "EVci1_7Go023",
        "colab_type": "code",
        "colab": {}
      },
      "source": [
        "# Reshape the data and define the inputs\n",
        "X = X.reshape(N,1) # Number of samples x Number of Dimensions\n",
        "y = y.reshape(N,1)\n",
        "\n",
        "inputs = torch.from_numpy(X.astype(np.float32))\n",
        "targets = torch.from_numpy(y.astype(np.float32))"
      ],
      "execution_count": 0,
      "outputs": []
    },
    {
      "cell_type": "code",
      "metadata": {
        "id": "xCn49_AopMxq",
        "colab_type": "code",
        "outputId": "98c26e52-f479-4805-a8c6-cc59d6071f80",
        "colab": {
          "base_uri": "https://localhost:8080/",
          "height": 527
        }
      },
      "source": [
        "# Now we train the model\n",
        "number_epochs = 30\n",
        "losses = []\n",
        "for iteration in range(number_epochs):\n",
        "    optimizer.zero_grad() # zero the parameter gradients. PyTorch accumulates the gradients for every .backward() call\n",
        "    outputs = model(inputs)\n",
        "    loss = criterion(outputs, targets)\n",
        "    losses.append(loss.item())\n",
        "    loss.backward()\n",
        "    optimizer.step()\n",
        "    print('Epoch {}/{}, Loss: {}'.format(iteration+1, number_epochs, loss.item()))"
      ],
      "execution_count": 0,
      "outputs": [
        {
          "output_type": "stream",
          "text": [
            "Epoch 1/30, Loss: 18.3820743560791\n",
            "Epoch 2/30, Loss: 2.137620449066162\n",
            "Epoch 3/30, Loss: 1.574477195739746\n",
            "Epoch 4/30, Loss: 1.4499017000198364\n",
            "Epoch 5/30, Loss: 1.357723355293274\n",
            "Epoch 6/30, Loss: 1.2832876443862915\n",
            "Epoch 7/30, Loss: 1.2230000495910645\n",
            "Epoch 8/30, Loss: 1.1741664409637451\n",
            "Epoch 9/30, Loss: 1.134610891342163\n",
            "Epoch 10/30, Loss: 1.1025702953338623\n",
            "Epoch 11/30, Loss: 1.0766174793243408\n",
            "Epoch 12/30, Loss: 1.05559504032135\n",
            "Epoch 13/30, Loss: 1.0385667085647583\n",
            "Epoch 14/30, Loss: 1.0247735977172852\n",
            "Epoch 15/30, Loss: 1.0136009454727173\n",
            "Epoch 16/30, Loss: 1.0045510530471802\n",
            "Epoch 17/30, Loss: 0.997220516204834\n",
            "Epoch 18/30, Loss: 0.9912826418876648\n",
            "Epoch 19/30, Loss: 0.9864730834960938\n",
            "Epoch 20/30, Loss: 0.9825772047042847\n",
            "Epoch 21/30, Loss: 0.9794214367866516\n",
            "Epoch 22/30, Loss: 0.9768652319908142\n",
            "Epoch 23/30, Loss: 0.974794864654541\n",
            "Epoch 24/30, Loss: 0.9731175899505615\n",
            "Epoch 25/30, Loss: 0.9717590808868408\n",
            "Epoch 26/30, Loss: 0.9706587791442871\n",
            "Epoch 27/30, Loss: 0.9697675108909607\n",
            "Epoch 28/30, Loss: 0.9690455794334412\n",
            "Epoch 29/30, Loss: 0.9684606790542603\n",
            "Epoch 30/30, Loss: 0.9679870009422302\n"
          ],
          "name": "stdout"
        }
      ]
    },
    {
      "cell_type": "code",
      "metadata": {
        "id": "BJWC5VqHpz1h",
        "colab_type": "code",
        "outputId": "f9a53151-9a16-4420-f351-39154dfa0aa3",
        "colab": {
          "base_uri": "https://localhost:8080/",
          "height": 282
        }
      },
      "source": [
        "# Plot the losses\n",
        "plt.plot(losses)"
      ],
      "execution_count": 0,
      "outputs": [
        {
          "output_type": "execute_result",
          "data": {
            "text/plain": [
              "[<matplotlib.lines.Line2D at 0x7fb286f36b00>]"
            ]
          },
          "metadata": {
            "tags": []
          },
          "execution_count": 11
        },
        {
          "output_type": "display_data",
          "data": {
            "image/png": "[encoded data removed]",
            "text/plain": [
              "<Figure size 432x288 with 1 Axes>"
            ]
          },
          "metadata": {
            "tags": [],
            "needs_background": "light"
          }
        }
      ]
    },
    {
      "cell_type": "code",
      "metadata": {
        "id": "8fCMnURyp3kS",
        "colab_type": "code",
        "outputId": "947e478f-12f1-4e2b-dea3-205a4d0b69cc",
        "colab": {
          "base_uri": "https://localhost:8080/",
          "height": 265
        }
      },
      "source": [
        "# Plot the graph of predictions\n",
        "predicted = model(inputs).detach().numpy()\n",
        "plt.scatter(X, y, label='Original Data')\n",
        "plt.plot(X, predicted, label='Fitted Line')\n",
        "plt.legend()\n",
        "plt.show()"
      ],
      "execution_count": 0,
      "outputs": [
        {
          "output_type": "display_data",
          "data": {
            "image/png": "[encoded data removed]",
            "text/plain": [
              "<Figure size 432x288 with 1 Axes>"
            ]
          },
          "metadata": {
            "tags": [],
            "needs_background": "light"
          }
        }
      ]
    },
    {
      "cell_type": "code",
      "metadata": {
        "id": "fo0sCGk9qNZR",
        "colab_type": "code",
        "outputId": "718aee9e-b11e-4309-e261-5386af521128",
        "colab": {
          "base_uri": "https://localhost:8080/",
          "height": 34
        }
      },
      "source": [
        "# Test the model values (true w = 0.5, b = -1)\n",
        "w = model.weight.data.numpy()\n",
        "b = model.bias.data.numpy()\n",
        "print(w,b)"
      ],
      "execution_count": 0,
      "outputs": [
        {
          "output_type": "stream",
          "text": [
            "[[0.47291148]] [-1.0416733]\n"
          ],
          "name": "stdout"
        }
      ]
    },
    {
      "cell_type": "code",
      "metadata": {
        "id": "IsGT32T-qgCu",
        "colab_type": "code",
        "colab": {}
      },
      "source": [
        ""
      ],
      "execution_count": 0,
      "outputs": []
    }
  ]
}