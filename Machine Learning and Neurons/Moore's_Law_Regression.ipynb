{
  "nbformat": 4,
  "nbformat_minor": 0,
  "metadata": {
    "colab": {
      "name": "Moore's Law Regression.ipynb",
      "provenance": [],
      "collapsed_sections": []
    },
    "kernelspec": {
      "name": "python3",
      "display_name": "Python 3"
    }
  },
  "cells": [
    {
      "cell_type": "code",
      "metadata": {
        "id": "sZZxuJWEvKEB",
        "colab_type": "code",
        "colab": {}
      },
      "source": [
        "# We first get all the relevant imports\n",
        "import torch\n",
        "import torch.nn as nn\n",
        "import pandas as pd\n",
        "import numpy as np\n",
        "import matplotlib.pyplot as plt"
      ],
      "execution_count": 0,
      "outputs": []
    },
    {
      "cell_type": "code",
      "metadata": {
        "id": "go1vMA7kvam3",
        "colab_type": "code",
        "colab": {
          "base_uri": "https://localhost:8080/",
          "height": 224
        },
        "outputId": "c0a0c9d7-2ac4-4950-dfe6-5c6414ee6f82"
      },
      "source": [
        "# We get the data\n",
        "!wget -nc https://raw.githubusercontent.com/lazyprogrammer/machine_learning_examples/master/tf2.0/moore.csv"
      ],
      "execution_count": 2,
      "outputs": [
        {
          "output_type": "stream",
          "text": [
            "--2020-04-18 19:22:44--  https://raw.githubusercontent.com/lazyprogrammer/machine_learning_examples/master/tf2.0/moore.csv\n",
            "Resolving raw.githubusercontent.com (raw.githubusercontent.com)... 151.101.0.133, 151.101.64.133, 151.101.128.133, ...\n",
            "Connecting to raw.githubusercontent.com (raw.githubusercontent.com)|151.101.0.133|:443... connected.\n",
            "HTTP request sent, awaiting response... 200 OK\n",
            "Length: 2302 (2.2K) [text/plain]\n",
            "Saving to: ‘moore.csv’\n",
            "\n",
            "\rmoore.csv             0%[                    ]       0  --.-KB/s               \rmoore.csv           100%[===================>]   2.25K  --.-KB/s    in 0s      \n",
            "\n",
            "2020-04-18 19:22:44 (48.7 MB/s) - ‘moore.csv’ saved [2302/2302]\n",
            "\n"
          ],
          "name": "stdout"
        }
      ]
    },
    {
      "cell_type": "code",
      "metadata": {
        "id": "UPi4Y9JDvjhh",
        "colab_type": "code",
        "colab": {}
      },
      "source": [
        "# Load the data \n",
        "data = pd.read_csv('moore.csv', header=None).values # Load as numpy\n",
        "X = data[:,0].reshape(-1,1) # 2D array of size NxD, D=1\n",
        "y = data[:,1].reshape(-1,1)"
      ],
      "execution_count": 0,
      "outputs": []
    },
    {
      "cell_type": "code",
      "metadata": {
        "id": "6-fBE9lyv3yF",
        "colab_type": "code",
        "colab": {
          "base_uri": "https://localhost:8080/",
          "height": 293
        },
        "outputId": "4b89ca4e-640c-474a-98c3-852476763cd8"
      },
      "source": [
        "# Plot the data\n",
        "plt.scatter(X,y)"
      ],
      "execution_count": 6,
      "outputs": [
        {
          "output_type": "execute_result",
          "data": {
            "text/plain": [
              "<matplotlib.collections.PathCollection at 0x7fa0e1905860>"
            ]
          },
          "metadata": {
            "tags": []
          },
          "execution_count": 6
        },
        {
          "output_type": "display_data",
          "data": {
            "image/png": "[encoded data removed]",
            "text/plain": [
              "<Figure size 432x288 with 1 Axes>"
            ]
          },
          "metadata": {
            "tags": [],
            "needs_background": "light"
          }
        }
      ]
    },
    {
      "cell_type": "code",
      "metadata": {
        "id": "1vSBETt1v_nH",
        "colab_type": "code",
        "colab": {
          "base_uri": "https://localhost:8080/",
          "height": 282
        },
        "outputId": "cd96dd05-450f-4fa3-9ea3-2eba709b18f4"
      },
      "source": [
        "# A linear model is desired, so we take the log\n",
        "y = np.log(y)\n",
        "plt.scatter(X,y)"
      ],
      "execution_count": 7,
      "outputs": [
        {
          "output_type": "execute_result",
          "data": {
            "text/plain": [
              "<matplotlib.collections.PathCollection at 0x7fa0de6b8208>"
            ]
          },
          "metadata": {
            "tags": []
          },
          "execution_count": 7
        },
        {
          "output_type": "display_data",
          "data": {
            "image/png": "[encoded data removed]",
            "text/plain": [
              "<Figure size 432x288 with 1 Axes>"
            ]
          },
          "metadata": {
            "tags": [],
            "needs_background": "light"
          }
        }
      ]
    },
    {
      "cell_type": "code",
      "metadata": {
        "id": "TGnYCCsGwIa9",
        "colab_type": "code",
        "colab": {}
      },
      "source": [
        "# We perform data pre-processing\n",
        "# The data is standardized/normalized for X and y\n",
        "mean_X = X.mean()\n",
        "std_X = X.std()\n",
        "mean_y = y.mean()\n",
        "std_y = y.std()\n",
        "\n",
        "# We keep the above as variables, to reverse transformations and go back to orig. units.\n",
        "\n",
        "X = (X - mean_X) / std_X\n",
        "y = (y - mean_y) / std_y"
      ],
      "execution_count": 0,
      "outputs": []
    },
    {
      "cell_type": "code",
      "metadata": {
        "id": "M6wsvPFlwkDg",
        "colab_type": "code",
        "colab": {
          "base_uri": "https://localhost:8080/",
          "height": 282
        },
        "outputId": "ca237f63-abea-47a9-b214-10da45590eee"
      },
      "source": [
        "plt.scatter(X,y)"
      ],
      "execution_count": 9,
      "outputs": [
        {
          "output_type": "execute_result",
          "data": {
            "text/plain": [
              "<matplotlib.collections.PathCollection at 0x7fa0de6414a8>"
            ]
          },
          "metadata": {
            "tags": []
          },
          "execution_count": 9
        },
        {
          "output_type": "display_data",
          "data": {
            "image/png": "[encoded data removed]",
            "text/plain": [
              "<Figure size 432x288 with 1 Axes>"
            ]
          },
          "metadata": {
            "tags": [],
            "needs_background": "light"
          }
        }
      ]
    },
    {
      "cell_type": "code",
      "metadata": {
        "id": "FrFRc6lfwlby",
        "colab_type": "code",
        "colab": {}
      },
      "source": [
        "X = X.astype(np.float32)\n",
        "y = y.astype(np.float32)"
      ],
      "execution_count": 0,
      "outputs": []
    },
    {
      "cell_type": "code",
      "metadata": {
        "id": "WFYjwza6wtJH",
        "colab_type": "code",
        "colab": {}
      },
      "source": [
        "# Create the linear regression model\n",
        "model = nn.Linear(1,1)"
      ],
      "execution_count": 0,
      "outputs": []
    },
    {
      "cell_type": "code",
      "metadata": {
        "id": "QWtGiNYCwy_M",
        "colab_type": "code",
        "colab": {}
      },
      "source": [
        "# Loss and Optimizer\n",
        "criterion = nn.MSELoss()\n",
        "optimizer = torch.optim.SGD(model.parameters(), lr = 0.01, momentum = 0.7)"
      ],
      "execution_count": 0,
      "outputs": []
    },
    {
      "cell_type": "code",
      "metadata": {
        "id": "RpDRlspHxBAF",
        "colab_type": "code",
        "colab": {}
      },
      "source": [
        "# Prepare the data\n",
        "inputs = torch.from_numpy(X)\n",
        "targets = torch.from_numpy(y)"
      ],
      "execution_count": 0,
      "outputs": []
    },
    {
      "cell_type": "code",
      "metadata": {
        "id": "rq3KPllmxNj1",
        "colab_type": "code",
        "colab": {
          "base_uri": "https://localhost:8080/",
          "height": 1000
        },
        "outputId": "02dd60f1-ba4c-4876-a84c-26318beed7f7"
      },
      "source": [
        "# Train the model\n",
        "number_epochs = 100\n",
        "losses = []\n",
        "for iteration in range(number_epochs):\n",
        "    optimizer.zero_grad()\n",
        "    outputs = model(inputs)\n",
        "    loss = criterion(outputs, targets)\n",
        "    losses.append(loss.item())\n",
        "    loss.backward()\n",
        "    optimizer.step()\n",
        "    print(\"Epoch {}/{}, Loss: {}\".format(iteration+1, number_epochs, loss.item()))"
      ],
      "execution_count": 15,
      "outputs": [
        {
          "output_type": "stream",
          "text": [
            "Epoch 1/100, Loss: 1.9233025312423706\n",
            "Epoch 2/100, Loss: 1.848663568496704\n",
            "Epoch 3/100, Loss: 1.726664423942566\n",
            "Epoch 4/100, Loss: 1.578623652458191\n",
            "Epoch 5/100, Loss: 1.4200716018676758\n",
            "Epoch 6/100, Loss: 1.2616569995880127\n",
            "Epoch 7/100, Loss: 1.110216736793518\n",
            "Epoch 8/100, Loss: 0.9697707295417786\n",
            "Epoch 9/100, Loss: 0.8423431515693665\n",
            "Epoch 10/100, Loss: 0.7286048531532288\n",
            "Epoch 11/100, Loss: 0.6283503770828247\n",
            "Epoch 12/100, Loss: 0.5408411622047424\n",
            "Epoch 13/100, Loss: 0.465045690536499\n",
            "Epoch 14/100, Loss: 0.39980053901672363\n",
            "Epoch 15/100, Loss: 0.3439164459705353\n",
            "Epoch 16/100, Loss: 0.29624372720718384\n",
            "Epoch 17/100, Loss: 0.25570982694625854\n",
            "Epoch 18/100, Loss: 0.2213389128446579\n",
            "Epoch 19/100, Loss: 0.19225870072841644\n",
            "Epoch 20/100, Loss: 0.1676999032497406\n",
            "Epoch 21/100, Loss: 0.14699095487594604\n",
            "Epoch 22/100, Loss: 0.12955039739608765\n",
            "Epoch 23/100, Loss: 0.11487765610218048\n",
            "Epoch 24/100, Loss: 0.10254421085119247\n",
            "Epoch 25/100, Loss: 0.09218449890613556\n",
            "Epoch 26/100, Loss: 0.08348797261714935\n",
            "Epoch 27/100, Loss: 0.07619123160839081\n",
            "Epoch 28/100, Loss: 0.0700715109705925\n",
            "Epoch 29/100, Loss: 0.06494075804948807\n",
            "Epoch 30/100, Loss: 0.06064038723707199\n",
            "Epoch 31/100, Loss: 0.0570368766784668\n",
            "Epoch 32/100, Loss: 0.054017916321754456\n",
            "Epoch 33/100, Loss: 0.05148911848664284\n",
            "Epoch 34/100, Loss: 0.04937119036912918\n",
            "Epoch 35/100, Loss: 0.047597598284482956\n",
            "Epoch 36/100, Loss: 0.04611248895525932\n",
            "Epoch 37/100, Loss: 0.04486904665827751\n",
            "Epoch 38/100, Loss: 0.04382801428437233\n",
            "Epoch 39/100, Loss: 0.042956504970788956\n",
            "Epoch 40/100, Loss: 0.042226940393447876\n",
            "Epoch 41/100, Loss: 0.041616231203079224\n",
            "Epoch 42/100, Loss: 0.04110501706600189\n",
            "Epoch 43/100, Loss: 0.04067712277173996\n",
            "Epoch 44/100, Loss: 0.04031895846128464\n",
            "Epoch 45/100, Loss: 0.04001916944980621\n",
            "Epoch 46/100, Loss: 0.03976826369762421\n",
            "Epoch 47/100, Loss: 0.03955824673175812\n",
            "Epoch 48/100, Loss: 0.03938247263431549\n",
            "Epoch 49/100, Loss: 0.03923536092042923\n",
            "Epoch 50/100, Loss: 0.03911223262548447\n",
            "Epoch 51/100, Loss: 0.03900918364524841\n",
            "Epoch 52/100, Loss: 0.038922931998968124\n",
            "Epoch 53/100, Loss: 0.038850750774145126\n",
            "Epoch 54/100, Loss: 0.03879033401608467\n",
            "Epoch 55/100, Loss: 0.03873977065086365\n",
            "Epoch 56/100, Loss: 0.03869744762778282\n",
            "Epoch 57/100, Loss: 0.03866203501820564\n",
            "Epoch 58/100, Loss: 0.03863239660859108\n",
            "Epoch 59/100, Loss: 0.03860758990049362\n",
            "Epoch 60/100, Loss: 0.038586828857660294\n",
            "Epoch 61/100, Loss: 0.03856945037841797\n",
            "Epoch 62/100, Loss: 0.03855490684509277\n",
            "Epoch 63/100, Loss: 0.0385427363216877\n",
            "Epoch 64/100, Loss: 0.038532547652721405\n",
            "Epoch 65/100, Loss: 0.03852401673793793\n",
            "Epoch 66/100, Loss: 0.03851689398288727\n",
            "Epoch 67/100, Loss: 0.038510918617248535\n",
            "Epoch 68/100, Loss: 0.0385059230029583\n",
            "Epoch 69/100, Loss: 0.03850173577666283\n",
            "Epoch 70/100, Loss: 0.03849824145436287\n",
            "Epoch 71/100, Loss: 0.03849531337618828\n",
            "Epoch 72/100, Loss: 0.03849285840988159\n",
            "Epoch 73/100, Loss: 0.03849080577492714\n",
            "Epoch 74/100, Loss: 0.03848908096551895\n",
            "Epoch 75/100, Loss: 0.038487646728754044\n",
            "Epoch 76/100, Loss: 0.03848644345998764\n",
            "Epoch 77/100, Loss: 0.038485437631607056\n",
            "Epoch 78/100, Loss: 0.0384845957159996\n",
            "Epoch 79/100, Loss: 0.03848389536142349\n",
            "Epoch 80/100, Loss: 0.03848330304026604\n",
            "Epoch 81/100, Loss: 0.03848281130194664\n",
            "Epoch 82/100, Loss: 0.03848239406943321\n",
            "Epoch 83/100, Loss: 0.03848204016685486\n",
            "Epoch 84/100, Loss: 0.038481757044792175\n",
            "Epoch 85/100, Loss: 0.038481514900922775\n",
            "Epoch 86/100, Loss: 0.03848131373524666\n",
            "Epoch 87/100, Loss: 0.03848114609718323\n",
            "Epoch 88/100, Loss: 0.038481004536151886\n",
            "Epoch 89/100, Loss: 0.03848087787628174\n",
            "Epoch 90/100, Loss: 0.03848078474402428\n",
            "Epoch 91/100, Loss: 0.03848069906234741\n",
            "Epoch 92/100, Loss: 0.03848062828183174\n",
            "Epoch 93/100, Loss: 0.038480568677186966\n",
            "Epoch 94/100, Loss: 0.038480520248413086\n",
            "Epoch 95/100, Loss: 0.0384804867208004\n",
            "Epoch 96/100, Loss: 0.038480449467897415\n",
            "Epoch 97/100, Loss: 0.03848041594028473\n",
            "Epoch 98/100, Loss: 0.03848039731383324\n",
            "Epoch 99/100, Loss: 0.038480378687381744\n",
            "Epoch 100/100, Loss: 0.03848036006093025\n"
          ],
          "name": "stdout"
        }
      ]
    },
    {
      "cell_type": "code",
      "metadata": {
        "id": "qi6YbHiExyo0",
        "colab_type": "code",
        "colab": {
          "base_uri": "https://localhost:8080/",
          "height": 285
        },
        "outputId": "bb890329-4388-4e18-98d3-f0d77605282f"
      },
      "source": [
        "# Loss per iter\n",
        "plt.plot(losses)"
      ],
      "execution_count": 16,
      "outputs": [
        {
          "output_type": "execute_result",
          "data": {
            "text/plain": [
              "[<matplotlib.lines.Line2D at 0x7fa0de605c50>]"
            ]
          },
          "metadata": {
            "tags": []
          },
          "execution_count": 16
        },
        {
          "output_type": "display_data",
          "data": {
            "image/png": "[encoded data removed]",
            "text/plain": [
              "<Figure size 432x288 with 1 Axes>"
            ]
          },
          "metadata": {
            "tags": [],
            "needs_background": "light"
          }
        }
      ]
    },
    {
      "cell_type": "code",
      "metadata": {
        "id": "gOvPoOTyx_CO",
        "colab_type": "code",
        "colab": {
          "base_uri": "https://localhost:8080/",
          "height": 265
        },
        "outputId": "30840d45-0874-4caf-9834-1d2c84d80b00"
      },
      "source": [
        "# Plot the line of best fit\n",
        "predicted = model(torch.from_numpy(X)).detach().numpy()\n",
        "plt.plot(X, y, 'ro', label='original data')\n",
        "plt.plot(X, predicted, label='Fitted Line')\n",
        "plt.legend()\n",
        "plt.show()"
      ],
      "execution_count": 17,
      "outputs": [
        {
          "output_type": "display_data",
          "data": {
            "image/png": "[encoded data removed]",
            "text/plain": [
              "<Figure size 432x288 with 1 Axes>"
            ]
          },
          "metadata": {
            "tags": [],
            "needs_background": "light"
          }
        }
      ]
    },
    {
      "cell_type": "code",
      "metadata": {
        "id": "JRiOlveDyQNK",
        "colab_type": "code",
        "colab": {
          "base_uri": "https://localhost:8080/",
          "height": 34
        },
        "outputId": "d59e109a-057a-49ec-e383-f1a78bc4a193"
      },
      "source": [
        "# Weights:\n",
        "w = model.weight.data.numpy()\n",
        "print(w)"
      ],
      "execution_count": 20,
      "outputs": [
        {
          "output_type": "stream",
          "text": [
            "[[0.9803478]]\n"
          ],
          "name": "stdout"
        }
      ]
    },
    {
      "cell_type": "code",
      "metadata": {
        "id": "czZPrQFbycKy",
        "colab_type": "code",
        "colab": {}
      },
      "source": [
        "a = w[0,0] * std_y / std_X"
      ],
      "execution_count": 0,
      "outputs": []
    },
    {
      "cell_type": "code",
      "metadata": {
        "id": "rRfAWiRyzGqP",
        "colab_type": "code",
        "colab": {
          "base_uri": "https://localhost:8080/",
          "height": 34
        },
        "outputId": "5b9c5601-c946-4d6d-b77c-522b7f7e7b5e"
      },
      "source": [
        "print(\"Doubling time:\", np.log(2) / a)"
      ],
      "execution_count": 24,
      "outputs": [
        {
          "output_type": "stream",
          "text": [
            "Doubling time: 2.0290916168228317\n"
          ],
          "name": "stdout"
        }
      ]
    },
    {
      "cell_type": "code",
      "metadata": {
        "id": "s_uPQjR5zh48",
        "colab_type": "code",
        "colab": {}
      },
      "source": [
        ""
      ],
      "execution_count": 0,
      "outputs": []
    }
  ]
}